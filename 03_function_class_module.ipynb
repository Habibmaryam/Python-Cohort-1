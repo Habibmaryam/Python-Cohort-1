{
 "cells": [
  {
   "cell_type": "markdown",
   "id": "a1d34e1b",
   "metadata": {},
   "source": [
    "# Functions, classes and Modules"
   ]
  },
  {
   "cell_type": "markdown",
   "id": "86faa6b6",
   "metadata": {},
   "source": [
    "### 1. Functions in Python"
   ]
  },
  {
   "cell_type": "markdown",
   "id": "7d2e436a",
   "metadata": {},
   "source": [
    "###### A function is a reusable block of code that performs a specific task. Function helps reduce repetition and improve code organization."
   ]
  },
  {
   "cell_type": "code",
   "execution_count": null,
   "id": "0b879717",
   "metadata": {},
   "outputs": [
    {
     "data": {
      "text/plain": [
       "10"
      ]
     },
     "execution_count": 1,
     "metadata": {},
     "output_type": "execute_result"
    }
   ],
   "source": [
    "# Basic Syntax:\n",
    "# first define the function we want to create usinf the def() function\n",
    "\n",
    "x = [1, 2, 3, 4, 5,6,7,8,9,10]\n",
    "len(x) # Ths is called a built-in function"
   ]
  },
  {
   "cell_type": "code",
   "execution_count": 3,
   "id": "54ab351c",
   "metadata": {},
   "outputs": [
    {
     "name": "stdout",
     "output_type": "stream",
     "text": [
      "The sum is  8\n"
     ]
    }
   ],
   "source": [
    "# What if we want to create our own function?\n",
    "def add():\n",
    "    sum = 2+6\n",
    "    print('The sum is ', sum)\n",
    "add()"
   ]
  },
  {
   "cell_type": "markdown",
   "id": "ca236940",
   "metadata": {},
   "source": [
    "#### Functions Arguments and Parameters\n",
    "\n",
    "Positional: Matched by order.\n",
    "\n",
    "#### Types of Argument\n",
    "- Positional Argument\n",
    "\n",
    "- Keyword Argument\n",
    "\n",
    "###### **Kwargs\n"
   ]
  },
  {
   "cell_type": "markdown",
   "id": "a690d553",
   "metadata": {},
   "source": [
    "#### Positional Arguement"
   ]
  },
  {
   "cell_type": "code",
   "execution_count": 5,
   "id": "f414b405",
   "metadata": {},
   "outputs": [
    {
     "name": "stdout",
     "output_type": "stream",
     "text": [
      "6\n"
     ]
    }
   ],
   "source": [
    "def add_positional(a,b,c):\n",
    "    sum = a + b + c\n",
    "    return sum\n",
    "result = add_positional(1,2,3)\n",
    "print(result)"
   ]
  },
  {
   "cell_type": "markdown",
   "id": "c5d4d33a",
   "metadata": {},
   "source": [
    "#### Keyword Argument--> The parameter takes in a keyword"
   ]
  },
  {
   "cell_type": "code",
   "execution_count": 11,
   "id": "9992d0df",
   "metadata": {},
   "outputs": [
    {
     "name": "stdout",
     "output_type": "stream",
     "text": [
      "Name Bob\n",
      "age 25\n",
      "Name Marysm\n",
      "age 40\n"
     ]
    }
   ],
   "source": [
    "def add_keyword(name='Alice', age='30'):\n",
    "    print('Name', name)\n",
    "    print('age', age)\n",
    "add_keyword(name='Bob', age='25')\n",
    "add_keyword(age='40', name='Marysm')"
   ]
  },
  {
   "cell_type": "markdown",
   "id": "81b6be92",
   "metadata": {},
   "source": [
    "##### * args Arguments"
   ]
  },
  {
   "cell_type": "code",
   "execution_count": 12,
   "id": "27c3acb8",
   "metadata": {},
   "outputs": [],
   "source": [
    "def add_args(*args):\n",
    "    print(type(args))\n",
    "    for num in args:\n",
    "        print(num)"
   ]
  },
  {
   "cell_type": "code",
   "execution_count": 13,
   "id": "8d9ad6c5",
   "metadata": {},
   "outputs": [
    {
     "name": "stdout",
     "output_type": "stream",
     "text": [
      "<class 'tuple'>\n",
      "1\n",
      "2\n",
      "3\n",
      "4\n",
      "5\n"
     ]
    }
   ],
   "source": [
    "add_args(1, 2, 3, 4, 5 )"
   ]
  },
  {
   "cell_type": "markdown",
   "id": "120c24bd",
   "metadata": {},
   "source": [
    "##### **kwargs Arguments\n"
   ]
  },
  {
   "cell_type": "code",
   "execution_count": 14,
   "id": "9622241d",
   "metadata": {},
   "outputs": [],
   "source": [
    "def add_kwargs(**kwargs):\n",
    "    print(type(kwargs))\n",
    "    for key, values in kwargs.items():\n",
    "        print(f\"{key}: {values}\")"
   ]
  },
  {
   "cell_type": "code",
   "execution_count": 16,
   "id": "e87e376c",
   "metadata": {},
   "outputs": [
    {
     "name": "stdout",
     "output_type": "stream",
     "text": [
      "<class 'dict'>\n",
      "name: Alice\n",
      "age: 30\n",
      "city: New York\n"
     ]
    }
   ],
   "source": [
    "add_kwargs(name='Alice', age=30, city='New York')   "
   ]
  },
  {
   "cell_type": "code",
   "execution_count": 17,
   "id": "d785354d",
   "metadata": {},
   "outputs": [],
   "source": [
    "# Get Crypto price change percentage\n",
    "\n",
    "def calculate_price_changes(old_price,new_price):\n",
    "    change = ((new_price - old_price) / old_price) * 100\n",
    "    return change"
   ]
  },
  {
   "cell_type": "code",
   "execution_count": 23,
   "id": "6fdafb3f",
   "metadata": {},
   "outputs": [
    {
     "name": "stdout",
     "output_type": "stream",
     "text": [
      "BTC Price Change : 20.0%\n"
     ]
    }
   ],
   "source": [
    "btc_change = calculate_price_changes(100000,120000)\n",
    "print(f'BTC Price Change : {btc_change}%')"
   ]
  },
  {
   "cell_type": "code",
   "execution_count": 26,
   "id": "faf5f768",
   "metadata": {},
   "outputs": [
    {
     "name": "stdout",
     "output_type": "stream",
     "text": [
      "Bitcoin is currently trading at $110,000.00\n",
      "Ethereum is currently trading at $1,800.00\n"
     ]
    }
   ],
   "source": [
    "def format_crypto_prices(name,price,symbol=\"$\"):\n",
    "    return f\"{name} is currently trading at {symbol}{price:,.2f}\"\n",
    "print(format_crypto_prices(\"Bitcoin\", 110000))\n",
    "print(format_crypto_prices(\"Ethereum\", 1800, \"$\"))\n"
   ]
  },
  {
   "cell_type": "code",
   "execution_count": 27,
   "id": "8cc770a8",
   "metadata": {},
   "outputs": [],
   "source": [
    "##### Class and modules"
   ]
  }
 ],
 "metadata": {
  "kernelspec": {
   "display_name": "lesson1",
   "language": "python",
   "name": "python3"
  },
  "language_info": {
   "codemirror_mode": {
    "name": "ipython",
    "version": 3
   },
   "file_extension": ".py",
   "mimetype": "text/x-python",
   "name": "python",
   "nbconvert_exporter": "python",
   "pygments_lexer": "ipython3",
   "version": "3.12.10"
  }
 },
 "nbformat": 4,
 "nbformat_minor": 5
}
