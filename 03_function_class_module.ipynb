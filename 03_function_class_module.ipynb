{
 "cells": [
  {
   "cell_type": "markdown",
   "id": "a1d34e1b",
   "metadata": {},
   "source": [
    "# Functions, classes and Modules"
   ]
  },
  {
   "cell_type": "markdown",
   "id": "86faa6b6",
   "metadata": {},
   "source": [
    "### 1. Functions in Python"
   ]
  },
  {
   "cell_type": "markdown",
   "id": "7d2e436a",
   "metadata": {},
   "source": [
    "###### A function is a reusable block of code that performs a specific task. Function helps reduce repetition and improve code organization."
   ]
  },
  {
   "cell_type": "code",
   "execution_count": null,
   "id": "0b879717",
   "metadata": {},
   "outputs": [
    {
     "data": {
      "text/plain": [
       "10"
      ]
     },
     "execution_count": 1,
     "metadata": {},
     "output_type": "execute_result"
    }
   ],
   "source": [
    "# Basic Syntax:\n",
    "# first define the function we want to create usinf the def() function\n",
    "\n",
    "x = [1, 2, 3, 4, 5,6,7,8,9,10]\n",
    "len(x) # Ths is called a built-in function"
   ]
  },
  {
   "cell_type": "code",
   "execution_count": 3,
   "id": "54ab351c",
   "metadata": {},
   "outputs": [
    {
     "name": "stdout",
     "output_type": "stream",
     "text": [
      "The sum is  8\n"
     ]
    }
   ],
   "source": [
    "# What if we want to create our own function?\n",
    "def add():\n",
    "    sum = 2+6\n",
    "    print('The sum is ', sum)\n",
    "add()"
   ]
  },
  {
   "cell_type": "markdown",
   "id": "ca236940",
   "metadata": {},
   "source": [
    "#### Functions Arguments and Parameters\n",
    "\n",
    "Positional: Matched by order.\n",
    "\n",
    "#### Types of Argument\n",
    "- Positional Argument\n",
    "\n",
    "- Keyword Argument\n",
    "\n",
    "###### **Kwargs\n"
   ]
  },
  {
   "cell_type": "markdown",
   "id": "a690d553",
   "metadata": {},
   "source": [
    "#### Positional Arguement"
   ]
  },
  {
   "cell_type": "code",
   "execution_count": 5,
   "id": "f414b405",
   "metadata": {},
   "outputs": [
    {
     "name": "stdout",
     "output_type": "stream",
     "text": [
      "6\n"
     ]
    }
   ],
   "source": [
    "def add_positional(a,b,c):\n",
    "    sum = a + b + c\n",
    "    return sum\n",
    "result = add_positional(1,2,3)\n",
    "print(result)"
   ]
  },
  {
   "cell_type": "markdown",
   "id": "c5d4d33a",
   "metadata": {},
   "source": [
    "#### Keyword Argument--> The parameter takes in a keyword"
   ]
  },
  {
   "cell_type": "code",
   "execution_count": 11,
   "id": "9992d0df",
   "metadata": {},
   "outputs": [
    {
     "name": "stdout",
     "output_type": "stream",
     "text": [
      "Name Bob\n",
      "age 25\n",
      "Name Marysm\n",
      "age 40\n"
     ]
    }
   ],
   "source": [
    "def add_keyword(name='Alice', age='30'):\n",
    "    print('Name', name)\n",
    "    print('age', age)\n",
    "add_keyword(name='Bob', age='25')\n",
    "add_keyword(age='40', name='Marysm')"
   ]
  },
  {
   "cell_type": "markdown",
   "id": "81b6be92",
   "metadata": {},
   "source": [
    "##### * args Arguments"
   ]
  },
  {
   "cell_type": "code",
   "execution_count": 12,
   "id": "27c3acb8",
   "metadata": {},
   "outputs": [],
   "source": [
    "def add_args(*args):\n",
    "    print(type(args))\n",
    "    for num in args:\n",
    "        print(num)"
   ]
  },
  {
   "cell_type": "code",
   "execution_count": 13,
   "id": "8d9ad6c5",
   "metadata": {},
   "outputs": [
    {
     "name": "stdout",
     "output_type": "stream",
     "text": [
      "<class 'tuple'>\n",
      "1\n",
      "2\n",
      "3\n",
      "4\n",
      "5\n"
     ]
    }
   ],
   "source": [
    "add_args(1, 2, 3, 4, 5 )"
   ]
  },
  {
   "cell_type": "markdown",
   "id": "120c24bd",
   "metadata": {},
   "source": [
    "##### **kwargs Arguments\n"
   ]
  },
  {
   "cell_type": "code",
   "execution_count": 14,
   "id": "9622241d",
   "metadata": {},
   "outputs": [],
   "source": [
    "def add_kwargs(**kwargs):\n",
    "    print(type(kwargs))\n",
    "    for key, values in kwargs.items():\n",
    "        print(f\"{key}: {values}\")"
   ]
  },
  {
   "cell_type": "code",
   "execution_count": 16,
   "id": "e87e376c",
   "metadata": {},
   "outputs": [
    {
     "name": "stdout",
     "output_type": "stream",
     "text": [
      "<class 'dict'>\n",
      "name: Alice\n",
      "age: 30\n",
      "city: New York\n"
     ]
    }
   ],
   "source": [
    "add_kwargs(name='Alice', age=30, city='New York')   "
   ]
  },
  {
   "cell_type": "code",
   "execution_count": 17,
   "id": "d785354d",
   "metadata": {},
   "outputs": [],
   "source": [
    "# Get Crypto price change percentage\n",
    "\n",
    "def calculate_price_changes(old_price,new_price):\n",
    "    change = ((new_price - old_price) / old_price) * 100\n",
    "    return change"
   ]
  },
  {
   "cell_type": "code",
   "execution_count": 23,
   "id": "6fdafb3f",
   "metadata": {},
   "outputs": [
    {
     "name": "stdout",
     "output_type": "stream",
     "text": [
      "BTC Price Change : 20.0%\n"
     ]
    }
   ],
   "source": [
    "btc_change = calculate_price_changes(100000,120000)\n",
    "print(f'BTC Price Change : {btc_change}%')"
   ]
  },
  {
   "cell_type": "code",
   "execution_count": 26,
   "id": "faf5f768",
   "metadata": {},
   "outputs": [
    {
     "name": "stdout",
     "output_type": "stream",
     "text": [
      "Bitcoin is currently trading at $110,000.00\n",
      "Ethereum is currently trading at $1,800.00\n"
     ]
    }
   ],
   "source": [
    "def format_crypto_prices(name,price,symbol=\"$\"):\n",
    "    return f\"{name} is currently trading at {symbol}{price:,.2f}\"\n",
    "print(format_crypto_prices(\"Bitcoin\", 110000))\n",
    "print(format_crypto_prices(\"Ethereum\", 1800, \"$\"))\n"
   ]
  },
  {
   "cell_type": "markdown",
   "id": "822a6ee3",
   "metadata": {},
   "source": [
    "# Classes in Python\n",
    "\n",
    "### What Are Classes?\n",
    "\n",
    "Classes are blueprints (templates) for creating objects. An object is an instance of a class that can hold data (attributes) and perform actions (methods). Classes are ideal for modeling real-world entities, like a cryptocurrency or a portfolio.\n",
    "\n",
    "### Defining a Class\n",
    "-- Use the class keyword to define a class.\n",
    "\n",
    "-- Classes typically include:\n",
    "- Attributes: Variables that store data.\n",
    "- Methods: Functions that define the behavior of the class.\n",
    "- Constructor (init): A special methog to initialize objects."
   ]
  },
  {
   "cell_type": "markdown",
   "id": "9c467e81",
   "metadata": {},
   "source": [
    "## What is self in a Class?\n",
    "\n",
    "-- Definition: self is the first parameter in instance methods of a class. It represents the instance (object) on which the method is called. While self is not a reserved keyword in Python, it’s the standard convention for naming this parameter.\n",
    "\n",
    "-- Purpose: self allows methods to:\n",
    "\n",
    "- Access and modify the instance’s attributes.\n",
    "- Call other methods of the same instance.\n",
    "- Differentiate between instance-specific data and class-level data.\n",
    "\n",
    "-- When Used: self is used i\n",
    "-- When Used: self is used in instance methods (not static or class methods) and in the __init__ constructor to initialize instance attributes."
   ]
  },
  {
   "cell_type": "code",
   "execution_count": 1,
   "id": "8cc770a8",
   "metadata": {},
   "outputs": [],
   "source": [
    "# Defining a class\n",
    "class cryptoWallet:\n",
    "    # creating a constructor\n",
    "    # self gives us access to the attributes and methods of the class\n",
    "    def __init__(self, owner):\n",
    "        self.owner = owner\n",
    "        self.balance = {}\n",
    "    def deposit(self,token, amount):\n",
    "        self.balance[token] = self.balance.get(token, 0) + amount\n",
    "    def withdrawal(self, token, amount):\n",
    "        if self.balance.get(token,0) >= amount:\n",
    "            self.balance[token] -= amount\n",
    "            return True\n",
    "        else:\n",
    "            print(f\"Insufficient balance for {token}.\")\n",
    "            return False\n",
    "    def view_balance(self):\n",
    "        return self.balance\n"
   ]
  },
  {
   "cell_type": "code",
   "execution_count": 2,
   "id": "b0d87836",
   "metadata": {},
   "outputs": [
    {
     "name": "stdout",
     "output_type": "stream",
     "text": [
      "{'ETH': 0.7, 'BTC': 0.1}\n"
     ]
    }
   ],
   "source": [
    "wallet = cryptoWallet(\"Maryam\")\n",
    "wallet.deposit(\"ETH\", 0.7)\n",
    "wallet.deposit(\"BTC\", 0.1)\n",
    "print(wallet.view_balance())"
   ]
  },
  {
   "cell_type": "code",
   "execution_count": 3,
   "id": "6ddc17e3",
   "metadata": {},
   "outputs": [
    {
     "name": "stdout",
     "output_type": "stream",
     "text": [
      "Insufficient balance for ETH.\n",
      "Withdrawal successful: False\n",
      "{'ETH': 0.7, 'BTC': 0.1}\n"
     ]
    }
   ],
   "source": [
    "success = wallet.withdrawal(\"ETH\", 1.0)\n",
    "print(\"Withdrawal successful:\", success)\n",
    "print(wallet.view_balance())"
   ]
  },
  {
   "cell_type": "code",
   "execution_count": 4,
   "id": "9a61a91e",
   "metadata": {},
   "outputs": [
    {
     "name": "stdout",
     "output_type": "stream",
     "text": [
      "Withdrawal successful: True\n",
      "{'ETH': 0.6, 'BTC': 0.1}\n"
     ]
    }
   ],
   "source": [
    "success = wallet.withdrawal(\"ETH\", 0.1)\n",
    "print(\"Withdrawal successful:\", success)\n",
    "print(wallet.view_balance())"
   ]
  },
  {
   "cell_type": "code",
   "execution_count": 11,
   "id": "f282a8f2",
   "metadata": {},
   "outputs": [],
   "source": [
    "class Cryptocurrency:\n",
    "    \"\"\" A class to represent a cryptocurrency holding.\"\"\"\n",
    "    def __init__(self, name, symbol, price, quantity):\n",
    "        self.name = name # e.g. Bitcoin\n",
    "        self.symbol = symbol # e.g. BTC\n",
    "        self.price = price # e.g. 100000   \n",
    "        self.quantity = quantity # e.g. amount held\n",
    "    def total_value(self):\n",
    "        \"\"\" Calculate the total value of the cryptocurrency holding.\"\"\"\n",
    "        return self.price * self.quantity\n",
    "    def update_price(self, new_price):\n",
    "        \"\"\" Update the price of the cryptocurrency.\"\"\"\n",
    "        self.price = new_price\n",
    "\n",
    "class portfolio:\n",
    "    \"\"\"class to manage a portfolio of cryptocurrency\"\"\"\n",
    "    def __init__(self):\n",
    "        self.holdings = {} # dictionary to sore cryptocurrency\n",
    "    \n",
    "    def add_crypto(self, crypto):\n",
    "        \"\"\"Add a cryptocurrency to the portfolio\"\"\"\n",
    "        self.holdings[crypto.symbol] = crypto\n",
    "\n",
    "    def get_total_value(self):\n",
    "        \"\"\"Calculate the total value of the portfolio.\"\"\"\n",
    "        total = sum(crypto.total_value() for crypto in self.holdings.values())\n",
    "        return total\n",
    "    \n",
    "    def get_holding(self, symbol):\n",
    "        \"\"\"Retrieves A cryptocurrency by it's symbol\"\"\"\n",
    "        return self.holdings.get(symbol, None)\n",
    "    \n",
    "    def withdraw_crypto(self, symbol, quantity):\n",
    "        \"\"\" Withdraw a specified quantity of a cryptocurrency\"\"\"\n",
    "\n",
    "        crypto = self.get_holding(symbol)\n",
    "\n",
    "        # Check if the cryptocurrency exist\n",
    "        if not crypto:\n",
    "            print(f\"Error: {symbol} not found in the portfolio\")\n",
    "            return False\n",
    "        \n",
    "        # Validate Quantity\n",
    "        if quantity <= 0:\n",
    "            print(f\"Error: Withdrawal quantity must be positive.\")\n",
    "            return False\n",
    "        if quantity > crypto.quantity:\n",
    "            print(f\"Error: Insuffient {symbol} quantity. Available: {crypto.quantity}, Request: {quantity}\")\n",
    "            return False\n",
    "        \n",
    "        # Update quantity\n",
    "        crypto.quantity -= quantity\n",
    "        print(f\"Withdrew {quantity} {symbol}. Remaining: {crypto.quantity}\")\n",
    "\n",
    "        # Remove cryptocurrency if quantity is 0\n",
    "        if crypto.quantity == 0:\n",
    "            del self.holdings[symbol]\n",
    "            print(f\"{symbol} holding removed from portfolio\")\n",
    "\n",
    "        return True"
   ]
  },
  {
   "cell_type": "code",
   "execution_count": 12,
   "id": "2475376b",
   "metadata": {},
   "outputs": [
    {
     "name": "stdout",
     "output_type": "stream",
     "text": [
      "Portfolio Total Value: $117200.00\n"
     ]
    }
   ],
   "source": [
    "# Create cryptocurrency objects\n",
    "bitcoin = Cryptocurrency(\"Bitcoin\",\"BTC\", 117000, 1)\n",
    "etherum = Cryptocurrency(\"Ethereum\", \"ETH\", 500, 0.4)\n",
    "\n",
    "# Create portfolio Objects\n",
    "my_portfolio = portfolio()\n",
    "my_portfolio.add_crypto(bitcoin)\n",
    "my_portfolio.add_crypto(etherum)\n",
    "\n",
    "# Calculate total Portfolio values\n",
    "total_value = my_portfolio.get_total_value()\n",
    "print(f\"Portfolio Total Value: ${total_value:.2f}\")"
   ]
  },
  {
   "cell_type": "code",
   "execution_count": 15,
   "id": "bddb2a59",
   "metadata": {},
   "outputs": [
    {
     "name": "stdout",
     "output_type": "stream",
     "text": [
      "New Bitcoin Price: $100000\n",
      "Updated Portfolio Value: $100200.00\n"
     ]
    }
   ],
   "source": [
    "bitcoin.update_price(100000)\n",
    "print(f\"New Bitcoin Price: ${bitcoin.price}\")\n",
    "print(f\"Updated Portfolio Value: ${my_portfolio.get_total_value():.2f}\")"
   ]
  },
  {
   "cell_type": "code",
   "execution_count": 16,
   "id": "c36a8543",
   "metadata": {},
   "outputs": [
    {
     "name": "stdout",
     "output_type": "stream",
     "text": [
      "Withdrew 0.2 ETH. Remaining: 0.2\n",
      "Portfolio Value after withdrawing 0.2 ETH: $100100.00\n"
     ]
    }
   ],
   "source": [
    "my_portfolio.withdraw_crypto(\"ETH\", 0.2)\n",
    "print(f\"Portfolio Value after withdrawing 0.2 ETH: ${my_portfolio.get_total_value():.2f}\")"
   ]
  },
  {
   "cell_type": "markdown",
   "id": "d343d618",
   "metadata": {},
   "source": [
    "##### Modules"
   ]
  },
  {
   "cell_type": "code",
   "execution_count": 1,
   "id": "600abcaf",
   "metadata": {},
   "outputs": [],
   "source": [
    "# Standard Module\n",
    "\n",
    "import math\n",
    "import time\n",
    "import random\n",
    "import os\n",
    "import sys\n",
    "import datetime"
   ]
  },
  {
   "cell_type": "code",
   "execution_count": 2,
   "id": "b750f2e9",
   "metadata": {},
   "outputs": [
    {
     "name": "stdout",
     "output_type": "stream",
     "text": [
      "The square root of 16 is: 4.0\n"
     ]
    }
   ],
   "source": [
    "sqrt_16 = math.sqrt(16)\n",
    "print(f\"The square root of 16 is: {sqrt_16}\")"
   ]
  },
  {
   "cell_type": "code",
   "execution_count": 4,
   "id": "5ce21115",
   "metadata": {},
   "outputs": [
    {
     "name": "stdout",
     "output_type": "stream",
     "text": [
      "The square root of 100 is: 10.0\n"
     ]
    }
   ],
   "source": [
    "sqrt_100 = math.sqrt(100)\n",
    "print(f\"The square root of 100 is: {sqrt_100}\")"
   ]
  },
  {
   "cell_type": "code",
   "execution_count": 5,
   "id": "3355dda3",
   "metadata": {},
   "outputs": [],
   "source": [
    "time.sleep(10)  # Sleep for 10 seconds"
   ]
  },
  {
   "cell_type": "code",
   "execution_count": 9,
   "id": "f096641d",
   "metadata": {},
   "outputs": [
    {
     "name": "stdout",
     "output_type": "stream",
     "text": [
      "Random number generated: 5\n"
     ]
    }
   ],
   "source": [
    "# To generate a random number\n",
    "random_num = random.randint(1, 10)\n",
    "print(f\"Random number generated: {random_num}\")"
   ]
  },
  {
   "cell_type": "code",
   "execution_count": 10,
   "id": "83b9f0a5",
   "metadata": {},
   "outputs": [
    {
     "name": "stdout",
     "output_type": "stream",
     "text": [
      "Python Version: 3.12.10 (tags/v3.12.10:0cc8128, Apr  8 2025, 12:21:36) [MSC v.1943 64 bit (AMD64)]\n"
     ]
    }
   ],
   "source": [
    "# system version. Used when we want to work with APIs and we need the python to be compatible with the API\n",
    "\n",
    "python_version = sys.version\n",
    "print(f\"Python Version: {python_version}\")"
   ]
  },
  {
   "cell_type": "markdown",
   "id": "1502286e",
   "metadata": {},
   "source": [
    "##### Third party module\n",
    "\n",
    "- web3, pandas, twwepy, etc."
   ]
  },
  {
   "cell_type": "code",
   "execution_count": null,
   "id": "b54343db",
   "metadata": {},
   "outputs": [],
   "source": [
    "import pandas as pd\n",
    "import numpy as np\n",
    "import web3"
   ]
  },
  {
   "cell_type": "markdown",
   "id": "bb7bb851",
   "metadata": {},
   "source": [
    "### Custom Modules"
   ]
  }
 ],
 "metadata": {
  "kernelspec": {
   "display_name": "lesson1",
   "language": "python",
   "name": "python3"
  },
  "language_info": {
   "codemirror_mode": {
    "name": "ipython",
    "version": 3
   },
   "file_extension": ".py",
   "mimetype": "text/x-python",
   "name": "python",
   "nbconvert_exporter": "python",
   "pygments_lexer": "ipython3",
   "version": "3.12.10"
  }
 },
 "nbformat": 4,
 "nbformat_minor": 5
}
