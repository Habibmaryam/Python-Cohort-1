{
 "cells": [
  {
   "cell_type": "markdown",
   "id": "408b6df8",
   "metadata": {},
   "source": [
    "### Loops (For loop and while loop)"
   ]
  },
  {
   "cell_type": "code",
   "execution_count": 1,
   "id": "7bd0626a",
   "metadata": {},
   "outputs": [
    {
     "name": "stdout",
     "output_type": "stream",
     "text": [
      "44\n",
      "55\n",
      "66\n",
      "77\n"
     ]
    }
   ],
   "source": [
    "l1=[44,55,66,77]\n",
    "\n",
    "for i in l1:\n",
    "    print (i)"
   ]
  },
  {
   "cell_type": "code",
   "execution_count": 8,
   "id": "2c334480",
   "metadata": {},
   "outputs": [
    {
     "name": "stdout",
     "output_type": "stream",
     "text": [
      "44\n",
      "99\n",
      "165\n",
      "242\n"
     ]
    }
   ],
   "source": [
    "l1=[44,55,66,77]\n",
    "\n",
    "total = 0\n",
    "for i in l1:\n",
    "    total = total+i\n",
    "    print(total)"
   ]
  },
  {
   "cell_type": "code",
   "execution_count": 12,
   "id": "ea5a99cc",
   "metadata": {},
   "outputs": [
    {
     "name": "stdout",
     "output_type": "stream",
     "text": [
      "The length of the list is: 4\n",
      "The average is: 60.5\n"
     ]
    }
   ],
   "source": [
    "# Average = total / len(l1)\n",
    "\n",
    "num = len(l1)\n",
    "print(\"The length of the list is:\", num) \n",
    "\n",
    "average = total / num\n",
    "print(\"The average is:\", average)"
   ]
  },
  {
   "cell_type": "code",
   "execution_count": null,
   "id": "d4777ecc",
   "metadata": {},
   "outputs": [
    {
     "name": "stdout",
     "output_type": "stream",
     "text": [
      "0\n",
      "1\n",
      "2\n",
      "3\n",
      "4\n",
      "5\n",
      "6\n",
      "7\n",
      "8\n",
      "9\n"
     ]
    }
   ],
   "source": [
    "# range() is a type 2 loop, it generates a sequence of numbers.\n",
    "# It can be used in a for loop to iterate over a sequence of numbers.\n",
    "\n",
    "for i in range(10):\n",
    "    print(i)"
   ]
  },
  {
   "cell_type": "code",
   "execution_count": 21,
   "id": "973dc70a",
   "metadata": {},
   "outputs": [
    {
     "name": "stdout",
     "output_type": "stream",
     "text": [
      "[0, 2, 4, 6, 8, 10, 12, 14, 16, 18, 20, 22, 24, 26, 28, 30, 32, 34, 36, 38, 40, 42, 44, 46, 48, 50, 52, 54, 56, 58, 60, 62, 64, 66, 68, 70, 72, 74, 76, 78, 80, 82, 84, 86, 88, 90, 92, 94, 96, 98]\n"
     ]
    }
   ],
   "source": [
    "l2 = []\n",
    "\n",
    "for i in range(100):\n",
    "    if i % 2 == 0:\n",
    "        l2.append(i)\n",
    "print(l2)"
   ]
  },
  {
   "cell_type": "code",
   "execution_count": 27,
   "id": "ab020c5f",
   "metadata": {},
   "outputs": [
    {
     "name": "stdout",
     "output_type": "stream",
     "text": [
      "44\n",
      "55\n",
      "66\n",
      "77\n"
     ]
    }
   ],
   "source": [
    "# Type 3 loop\n",
    "\n",
    "l1=[44,55,66,77]\n",
    "\n",
    "for i in range(len(l1)):\n",
    "    print(l1[i])"
   ]
  },
  {
   "cell_type": "code",
   "execution_count": 31,
   "id": "446f53b0",
   "metadata": {},
   "outputs": [
    {
     "name": "stdout",
     "output_type": "stream",
     "text": [
      "btc 120000\n",
      "eth 2010\n",
      "sol 125\n"
     ]
    }
   ],
   "source": [
    "# Type 4 loop\n",
    "\n",
    "crypto_prices = {'btc':120000, 'eth':2010, 'sol':125}\n",
    "\n",
    "for i in crypto_prices:\n",
    "    print(i, crypto_prices.get(i))"
   ]
  },
  {
   "cell_type": "code",
   "execution_count": 33,
   "id": "e6565b5b",
   "metadata": {},
   "outputs": [
    {
     "name": "stdout",
     "output_type": "stream",
     "text": [
      "btc\n",
      "eth\n",
      "sol\n"
     ]
    }
   ],
   "source": [
    "for i in crypto_prices.keys():\n",
    "    print(i)"
   ]
  },
  {
   "cell_type": "code",
   "execution_count": 34,
   "id": "09a8fc2e",
   "metadata": {},
   "outputs": [
    {
     "name": "stdout",
     "output_type": "stream",
     "text": [
      "120000\n",
      "2010\n",
      "125\n"
     ]
    }
   ],
   "source": [
    "for i in crypto_prices.values():\n",
    "    print(i)"
   ]
  },
  {
   "cell_type": "code",
   "execution_count": 35,
   "id": "8ba7cb94",
   "metadata": {},
   "outputs": [
    {
     "name": "stdout",
     "output_type": "stream",
     "text": [
      "('btc', 120000)\n",
      "('eth', 2010)\n",
      "('sol', 125)\n"
     ]
    }
   ],
   "source": [
    "for i in crypto_prices.items():\n",
    "    print(i)"
   ]
  },
  {
   "cell_type": "markdown",
   "id": "8d47a316",
   "metadata": {},
   "source": [
    "#### While loop"
   ]
  },
  {
   "cell_type": "markdown",
   "id": "fdc38bcf",
   "metadata": {},
   "source": [
    "###### while loop runs code as long as the condition is true."
   ]
  },
  {
   "cell_type": "code",
   "execution_count": null,
   "id": "1a9afcce",
   "metadata": {},
   "outputs": [],
   "source": [
    "counter = 0\n",
    "\n",
    "while counter < 3:\n",
    "    print(\"counting...\", counter)\n",
    "    counter += 1"
   ]
  },
  {
   "cell_type": "code",
   "execution_count": 40,
   "id": "8a5b168e",
   "metadata": {},
   "outputs": [
    {
     "name": "stdout",
     "output_type": "stream",
     "text": [
      "10\n",
      "11\n",
      "12\n",
      "13\n",
      "14\n",
      "15\n",
      "16\n",
      "17\n",
      "18\n",
      "19\n"
     ]
    }
   ],
   "source": [
    "i = 10\n",
    "while True:\n",
    "    if i == 20:\n",
    "        break\n",
    "    print(i)\n",
    "    i += 1"
   ]
  },
  {
   "cell_type": "code",
   "execution_count": null,
   "id": "9336677c",
   "metadata": {},
   "outputs": [],
   "source": [
    "# Get even number between 1 and 100\n",
    "even = []\n",
    "while True:\n",
    "    if i > 100:\n",
    "        break\n",
    "\n",
    "    if i % 2 == 0:\n",
    "        even.append(i)\n",
    "        i+=1\n",
    "    print(i)\n",
    "    \n",
    "    "
   ]
  },
  {
   "cell_type": "code",
   "execution_count": 48,
   "id": "030c4487",
   "metadata": {},
   "outputs": [
    {
     "name": "stdout",
     "output_type": "stream",
     "text": [
      "3 x 1 = 3\n",
      "3 x 2 = 6\n",
      "3 x 3 = 9\n",
      "3 x 4 = 12\n",
      "3 x 5 = 15\n",
      "3 x 6 = 18\n",
      "3 x 7 = 21\n",
      "3 x 8 = 24\n",
      "3 x 9 = 27\n",
      "3 x 10 = 30\n"
     ]
    }
   ],
   "source": [
    "# Multiplication table of 3x3\n",
    "num1 = 3\n",
    "num2 = 1\n",
    "while True:\n",
    "    if num2==11:\n",
    "        break\n",
    "    print(num1, \"x\", num2, \"=\", num1 * num2)\n",
    "    num2 += 1"
   ]
  },
  {
   "cell_type": "code",
   "execution_count": 4,
   "id": "f4ad0247",
   "metadata": {},
   "outputs": [
    {
     "name": "stdout",
     "output_type": "stream",
     "text": [
      "0\n",
      "1\n",
      "3\n",
      "4\n"
     ]
    }
   ],
   "source": [
    "# continue skips to the next iteration\n",
    "\n",
    "for i in range (5):\n",
    "    if i == 2:\n",
    "        continue\n",
    "    print(i)"
   ]
  },
  {
   "cell_type": "markdown",
   "id": "5b815858",
   "metadata": {},
   "source": [
    "##### Continue amd break are used interchangeably"
   ]
  },
  {
   "cell_type": "markdown",
   "id": "2f9198b8",
   "metadata": {},
   "source": [
    "# END"
   ]
  }
 ],
 "metadata": {
  "kernelspec": {
   "display_name": "lesson1",
   "language": "python",
   "name": "python3"
  },
  "language_info": {
   "codemirror_mode": {
    "name": "ipython",
    "version": 3
   },
   "file_extension": ".py",
   "mimetype": "text/x-python",
   "name": "python",
   "nbconvert_exporter": "python",
   "pygments_lexer": "ipython3",
   "version": "3.12.10"
  }
 },
 "nbformat": 4,
 "nbformat_minor": 5
}
