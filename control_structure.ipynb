{
 "cells": [
  {
   "cell_type": "markdown",
   "id": "408b6df8",
   "metadata": {},
   "source": [
    "### Loops (For loop and while loop)"
   ]
  },
  {
   "cell_type": "code",
   "execution_count": 1,
   "id": "7bd0626a",
   "metadata": {},
   "outputs": [
    {
     "name": "stdout",
     "output_type": "stream",
     "text": [
      "44\n",
      "55\n",
      "66\n",
      "77\n"
     ]
    }
   ],
   "source": [
    "l1=[44,55,66,77]\n",
    "\n",
    "for i in l1:\n",
    "    print (i)"
   ]
  },
  {
   "cell_type": "code",
   "execution_count": 8,
   "id": "2c334480",
   "metadata": {},
   "outputs": [
    {
     "name": "stdout",
     "output_type": "stream",
     "text": [
      "44\n",
      "99\n",
      "165\n",
      "242\n"
     ]
    }
   ],
   "source": [
    "l1=[44,55,66,77]\n",
    "\n",
    "total = 0\n",
    "for i in l1:\n",
    "    total = total+i\n",
    "    print(total)"
   ]
  },
  {
   "cell_type": "code",
   "execution_count": 12,
   "id": "ea5a99cc",
   "metadata": {},
   "outputs": [
    {
     "name": "stdout",
     "output_type": "stream",
     "text": [
      "The length of the list is: 4\n",
      "The average is: 60.5\n"
     ]
    }
   ],
   "source": [
    "# Average = total / len(l1)\n",
    "\n",
    "num = len(l1)\n",
    "print(\"The length of the list is:\", num) \n",
    "\n",
    "average = total / num\n",
    "print(\"The average is:\", average)"
   ]
  },
  {
   "cell_type": "code",
   "execution_count": null,
   "id": "d4777ecc",
   "metadata": {},
   "outputs": [
    {
     "name": "stdout",
     "output_type": "stream",
     "text": [
      "0\n",
      "1\n",
      "2\n",
      "3\n",
      "4\n",
      "5\n",
      "6\n",
      "7\n",
      "8\n",
      "9\n"
     ]
    }
   ],
   "source": [
    "# range() is a type 2 loop, it generates a sequence of numbers.\n",
    "# It can be used in a for loop to iterate over a sequence of numbers.\n",
    "\n",
    "for i in range(10):\n",
    "    print(i)"
   ]
  },
  {
   "cell_type": "code",
   "execution_count": 21,
   "id": "973dc70a",
   "metadata": {},
   "outputs": [
    {
     "name": "stdout",
     "output_type": "stream",
     "text": [
      "[0, 2, 4, 6, 8, 10, 12, 14, 16, 18, 20, 22, 24, 26, 28, 30, 32, 34, 36, 38, 40, 42, 44, 46, 48, 50, 52, 54, 56, 58, 60, 62, 64, 66, 68, 70, 72, 74, 76, 78, 80, 82, 84, 86, 88, 90, 92, 94, 96, 98]\n"
     ]
    }
   ],
   "source": [
    "l2 = []\n",
    "\n",
    "for i in range(100):\n",
    "    if i % 2 == 0:\n",
    "        l2.append(i)\n",
    "print(l2)"
   ]
  },
  {
   "cell_type": "code",
   "execution_count": null,
   "id": "ab020c5f",
   "metadata": {},
   "outputs": [],
   "source": []
  }
 ],
 "metadata": {
  "kernelspec": {
   "display_name": "lesson1",
   "language": "python",
   "name": "python3"
  },
  "language_info": {
   "codemirror_mode": {
    "name": "ipython",
    "version": 3
   },
   "file_extension": ".py",
   "mimetype": "text/x-python",
   "name": "python",
   "nbconvert_exporter": "python",
   "pygments_lexer": "ipython3",
   "version": "3.12.10"
  }
 },
 "nbformat": 4,
 "nbformat_minor": 5
}
