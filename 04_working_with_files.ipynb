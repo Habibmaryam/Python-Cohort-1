{
 "cells": [
  {
   "cell_type": "code",
   "execution_count": 6,
   "id": "d2952ce0",
   "metadata": {},
   "outputs": [
    {
     "name": "stdout",
     "output_type": "stream",
     "text": [
      "yfwyojfwnclkkbaluyudqtihyjymawdejwohryzcxmfetprweypeycsgrftmvdsmfnscoktfcdmhlhwbbokgqktritnplecfqlfvdkhxqdzxibfrvgildqtqyhxaopcchziwzbcuclapmbtwmakgxpfmegtudyikksbagxhemmvzrrbfqwuvitzqndnolfuzxmlihygqgkepxsidktisfaelmjriihcfwwywqkrhpwmowmbfxyfjhtioaavgjpfawcmozflgefvaksqhxrcfpqzptctxosbddstjilntyttsdjppszejtiavwbqxfkbufeghsrpqoxgwmsonzxutvgnvolnipwbpduywimhbsbggzimzrvqvmyzwmzoiqurkajgftwnypbmqrxwpnromteriomlstdconetdjsmetfeptfpxsnxqxvyajtspjigjgrkntedfzbeyzhrnowijcyhzzwxaxowbyhhzpuqvnneipsexsrcwzrmjtlrfplbpohonbxyfttmuawqtyautuntiejhrzhrwynxomkhzwoyyssdhqovyjtgjsibpgncigrehuadglzsiafzbxalnwgcjmolwebzvwfkpabqbcugpkbpfezzgvedbrfilicemnighefhvexjsggjoszgymcillptwnvyoojblrxezajrhmucbuxroxbwkrtwrhvklfhdgpojiorctgviyzwctugrwekvovmaxadezcjmiuotgrhoupbhlrcujxsvlnicpvssnclslfpdggviyvxmeyddacxjmxiwbsopwrmieqpdoacbuaaghrwjszcdyvmpphsbccvlnxkktijozfoxwnkxllemdydfmsyifxnnhyktrhenmofihrinfkrdyfklqdfhbswxqdjkphbjxqoaaybhrrgteasgwimwdrdzuyzwdrxaqadwfzqtikdzjzqhscexrgrevmtrqjmkzasqugyehoyxakkylxwgynujwqmzveoucknieclwvihemswst\n"
     ]
    }
   ],
   "source": [
    "# Working with files in read mode\n",
    "\n",
    "with open(r'C:\\Users\\HP\\Downloads\\sample1.txt', 'r') as file: # Opens the file in the read mode\n",
    "    content = file.read() # Reads the entire content of the file\n",
    "    print(content) # Prints the content of the file"
   ]
  },
  {
   "cell_type": "code",
   "execution_count": 7,
   "id": "baa6e31f",
   "metadata": {},
   "outputs": [
    {
     "name": "stdout",
     "output_type": "stream",
     "text": [
      "File written successfully.\n"
     ]
    }
   ],
   "source": [
    "# working with files in write mode\n",
    "with open(r'C:\\Users\\HP\\Downloads\\sample2.txt', 'w') as file: # Opens the file in the write mode\n",
    "    file.write(\"This is a new line added to the file.\") # Writes a new line to the file\n",
    "    print(\"File written successfully.\") # Confirmation message"
   ]
  },
  {
   "cell_type": "code",
   "execution_count": 8,
   "id": "01e0e2d0",
   "metadata": {},
   "outputs": [
    {
     "name": "stdout",
     "output_type": "stream",
     "text": [
      "File appended successfully.\n"
     ]
    }
   ],
   "source": [
    "# Working with files in append mode\n",
    "with open(r'C:\\Users\\HP\\Downloads\\sample2.txt', 'a') as file: # Opens the file in the append mode\n",
    "    file.write(\"\\nThis line is appended to the existing content.\") # Appends a new line to the file\n",
    "    print(\"File appended successfully.\") # Confirmation message"
   ]
  },
  {
   "cell_type": "code",
   "execution_count": 10,
   "id": "c8e7cd11",
   "metadata": {},
   "outputs": [
    {
     "name": "stdout",
     "output_type": "stream",
     "text": [
      "current content of the file:\n",
      "This is a new line added to the file.\n",
      "This line is appended to the existing content.\n"
     ]
    }
   ],
   "source": [
    "# Working with files in read and write mode\n",
    "with open(r'C:\\Users\\HP\\Downloads\\sample2.txt', 'r+') as file: # Opens the file in read and write mode\n",
    "    content = file.read()\n",
    "    print('current content of the file:')\n",
    "    print(content) # Prints the current content of the file\n",
    "    file.write(\"\\nThis line is added after reading the file.\") # Adds a new line after reading"
   ]
  },
  {
   "cell_type": "markdown",
   "id": "d65f0b09",
   "metadata": {},
   "source": [
    "#### Working with CSV file"
   ]
  },
  {
   "cell_type": "code",
   "execution_count": 11,
   "id": "8c608f5b",
   "metadata": {},
   "outputs": [],
   "source": [
    "# Working with CSV file\n",
    "import csv\n",
    "\n",
    "# Writing to CSV\n",
    "with open('data.csv', 'w', newline='') as csvfile: # open file in write mode\n",
    "    writer = csv.writer(csvfile) # Creating the CSV writer object\n",
    "    writer.writerow(['Name', 'Age', 'City'])  # Writing header\n",
    "    writer.writerow(['Alice', 30, 'New York']) # write data row\n",
    "    writer.writerow(['Bob', 25, 'Los Angeles']) #write another data row"
   ]
  },
  {
   "cell_type": "code",
   "execution_count": 12,
   "id": "8e6b0647",
   "metadata": {},
   "outputs": [
    {
     "name": "stdout",
     "output_type": "stream",
     "text": [
      "['Name', 'Age', 'City']\n",
      "['Alice', '30', 'New York']\n",
      "['Bob', '25', 'Los Angeles']\n"
     ]
    }
   ],
   "source": [
    "# Working with csv file\n",
    "import csv\n",
    "\n",
    "with open('data.csv', 'r') as csvfile: #open file in read mode\n",
    "    reader = csv.reader(csvfile) # Creating the CSV reader object\n",
    "    for row in reader: # Iterating through each row in the CSV file\n",
    "        print(row) # Printing each row\n"
   ]
  },
  {
   "cell_type": "code",
   "execution_count": null,
   "id": "bd964b8d",
   "metadata": {},
   "outputs": [
    {
     "name": "stdout",
     "output_type": "stream",
     "text": [
      "{'Name': 'Alice', 'Age': '30', 'City': 'New York'}\n",
      "{'Name': 'Bob', 'Age': '25', 'City': 'Los Angeles'}\n"
     ]
    }
   ],
   "source": [
    "# Working with CSV file\n",
    "#DictReader for reading csv files\n",
    "\n",
    "with open('data.csv', 'r') as csvfile: #open file in read mode\n",
    "    reader = csv.DictReader(csvfile) # Creating the CSV DictReader object\n",
    "    for row in reader: # Iterating through each row in the CSV file\n",
    "        print(row) # Printing each row as a dictionary\n"
   ]
  },
  {
   "cell_type": "markdown",
   "id": "da120893",
   "metadata": {},
   "source": [
    "##### Jason stores data in dictionary format"
   ]
  },
  {
   "cell_type": "code",
   "execution_count": 14,
   "id": "b801ec7b",
   "metadata": {},
   "outputs": [],
   "source": [
    "import json\n",
    "# Jason stores data in dictionary format\n",
    "# write json file\n",
    "\n",
    "data = {\n",
    "    \"name\": \"Alice\",\n",
    "    \"age\": 30,\n",
    "    \"city\": \"New York\"\n",
    "}\n",
    "\n",
    "with open('data.json', 'w') as jsonfile:\n",
    "    json.dump(data, jsonfile, indent=4)  # Writing JSON data to a file with indentation for readability\n"
   ]
  },
  {
   "cell_type": "code",
   "execution_count": 15,
   "id": "a11708be",
   "metadata": {},
   "outputs": [
    {
     "name": "stdout",
     "output_type": "stream",
     "text": [
      "{'name': 'Alice', 'age': 30, 'city': 'New York'}\n"
     ]
    }
   ],
   "source": [
    "# Read json file\n",
    "with open('data.json', 'r') as jsonfile:\n",
    "    data = json.load(jsonfile)\n",
    "    print(data)"
   ]
  },
  {
   "cell_type": "code",
   "execution_count": 17,
   "id": "9b6b4885",
   "metadata": {},
   "outputs": [
    {
     "name": "stdout",
     "output_type": "stream",
     "text": [
      "{'name': 'Alice', 'age': 30, 'city': 'New York'}\n"
     ]
    }
   ],
   "source": [
    "json_string = '{\"name\": \"Alice\", \"age\": 30, \"city\": \"New York\"}'\n",
    "data = json.loads(json_string) # Parse JSON string into a Python dictionary\n",
    "print(data) # Output: {'name': 'Alice', 'age': 30, '    "
   ]
  },
  {
   "cell_type": "code",
   "execution_count": null,
   "id": "6e61d849",
   "metadata": {},
   "outputs": [
    {
     "name": "stdout",
     "output_type": "stream",
     "text": [
      "{\"name\": \"Alice\", \"age\": 30, \"city\": \"New York\"}\n"
     ]
    }
   ],
   "source": [
    "# Use dump to convert python object to json string\n",
    "\n",
    "data = {\n",
    "    \"name\": \"Alice\",\n",
    "    \"age\": 30,\n",
    "    \"city\": \"New York\"\n",
    "}\n",
    "\n",
    "json_string = json.dumps(data)  # Convert Python dictionary to JSON string\n",
    "print(json_string)"
   ]
  }
 ],
 "metadata": {
  "kernelspec": {
   "display_name": "lesson1",
   "language": "python",
   "name": "python3"
  },
  "language_info": {
   "codemirror_mode": {
    "name": "ipython",
    "version": 3
   },
   "file_extension": ".py",
   "mimetype": "text/x-python",
   "name": "python",
   "nbconvert_exporter": "python",
   "pygments_lexer": "ipython3",
   "version": "3.12.10"
  }
 },
 "nbformat": 4,
 "nbformat_minor": 5
}
