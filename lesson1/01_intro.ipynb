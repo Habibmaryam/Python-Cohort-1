{
 "cells": [
  {
   "cell_type": "markdown",
   "id": "19a7d2ef",
   "metadata": {},
   "source": [
    "# What is a Syntax"
   ]
  },
  {
   "cell_type": "markdown",
   "id": "cd468acb",
   "metadata": {},
   "source": []
  },
  {
   "cell_type": "markdown",
   "id": "ee64c78c",
   "metadata": {},
   "source": [
    "### Key Rules to Know:\n",
    "\n",
    "Comments (#) –  Comments are like sticky notes in your code. They start with # and are ignored by Python, so they’re just for you or others to understand what the code does.<br>\n",
    "Example: # This calculates your age<br>\n",
    "Indentation (Spaces/Tabs) – Python uses them to group code (like paragraphs in a book).<br>\n",
    "Code Blocks – Sections of code that belong together (e.g., inside loops or functions).<br>\n",
    "Keywords – Special words Python reserves (e.g., if, for, while). Don’t use these as variable names!"
   ]
  },
  {
   "cell_type": "markdown",
   "id": "8d522a10",
   "metadata": {},
   "source": [
    "#### F string\n",
    "It is formatted string literals.Its is a way to embedd formatted string inside a string literal in python."
   ]
  },
  {
   "cell_type": "code",
   "execution_count": 4,
   "id": "03c4f159",
   "metadata": {},
   "outputs": [
    {
     "name": "stdout",
     "output_type": "stream",
     "text": [
      "Hello {'Alice'}\n"
     ]
    }
   ],
   "source": [
    "name = 'Alice'\n",
    "print(f'Hello', {name})"
   ]
  },
  {
   "cell_type": "markdown",
   "id": "8d2fa64e",
   "metadata": {},
   "source": [
    "##### Input"
   ]
  },
  {
   "cell_type": "code",
   "execution_count": 3,
   "id": "4705df3c",
   "metadata": {},
   "outputs": [
    {
     "name": "stdout",
     "output_type": "stream",
     "text": [
      "My favorite crypto asset is Ethereum\n"
     ]
    }
   ],
   "source": [
    "crypto = input('Enter your favorite crypto Asset:')\n",
    "print('My favorite crypto asset is ' + crypto)"
   ]
  },
  {
   "cell_type": "code",
   "execution_count": 5,
   "id": "8e1b81d6",
   "metadata": {},
   "outputs": [
    {
     "name": "stdout",
     "output_type": "stream",
     "text": [
      "Hello Maryam\n"
     ]
    }
   ],
   "source": [
    "name = input('Enter your name:')\n",
    "print('Hello ' + name)"
   ]
  },
  {
   "cell_type": "code",
   "execution_count": 8,
   "id": "3bf78518",
   "metadata": {},
   "outputs": [
    {
     "name": "stdout",
     "output_type": "stream",
     "text": [
      "You are 40 years old\n"
     ]
    }
   ],
   "source": [
    "age = int(input('Enter your age:'))\n",
    "print(f'You are {age} years old')"
   ]
  },
  {
   "cell_type": "markdown",
   "id": "3375f371",
   "metadata": {},
   "source": [
    "### Naming Rules:\n",
    "Start with a letter or _ (not a number).<br>\n",
    "Can contain letters, numbers, or _ (no spaces or symbols).<br>\n",
    "Case-sensitive (Name ≠ name).<br>\n",
    "Avoid Python keywords (e.g., don’t name a variable print).<br>"
   ]
  },
  {
   "cell_type": "code",
   "execution_count": null,
   "id": "96e3d82c",
   "metadata": {},
   "outputs": [],
   "source": []
  },
  {
   "cell_type": "markdown",
   "id": "c094c91a",
   "metadata": {},
   "source": [
    "### Text Data Types\n",
    "#### - String"
   ]
  },
  {
   "cell_type": "code",
   "execution_count": null,
   "id": "84c9066d",
   "metadata": {},
   "outputs": [],
   "source": [
    "# String data type represent text"
   ]
  },
  {
   "cell_type": "markdown",
   "id": "c142198d",
   "metadata": {},
   "source": [
    "### Squence Data Type:\n",
    "\n"
   ]
  },
  {
   "cell_type": "markdown",
   "id": "10b25a8f",
   "metadata": {},
   "source": [
    "# Data Structure in Python\n",
    "\n",
    "#### What is a Data Structure in Python?\n",
    "\n",
    "\n",
    "A data structure is a way to organize, store, and access data efficiently so it can be used effectively. In Python, data structures are built-in types that allow you to group and manipulate data in different formats depending on your need.\n",
    "\n",
    "Why Are Data Structures Important?\n",
    "✅ Help you manage and organize data better.\n",
    "\n",
    "✅ Make data retrieval, updating, and manipulation easier.\n",
    "\n",
    "✅ Essential for solving real-world problems efficiently.\n",
    "\n",
    "✅ Common in blockchain analytics (e.g., wallet records, transaction logs)\n",
    "\n",
    "Common Built-in Data Structures in Python\n",
    "Data Structure Description Example\n",
    "\n",
    "String A sequence of characters \"Bitcoin\"\n",
    "\n",
    "List Ordered, mutable sequence [1, 2, 3]\n",
    "\n",
    "Tuple Ordered, immutable sequence (4, 5, 6)\n",
    "\n",
    "Set Unordered collection of unique items {1, 2, 3}\n",
    "\n",
    "Dictionary Key-value pairs {\"name\": \"Alice\", \"wallet\": \"0xABC\"}\n",
    "\n",
    "Where Do You See Data Structures in Blockchain?\n",
    "Blockchain Element Python Structure\n",
    "\n",
    "Wallet → tokens --- Dictionary or List\n",
    "\n",
    "Transaction log --- List of dictionaries\n",
    "\n",
    "Token prices (ETH → USD) --- Dictionary\n",
    "\n",
    "Address metadata --- Nested dictionary\n",
    "\n",
    "Smart contract parameters --- Tuple or Dict"
   ]
  },
  {
   "cell_type": "markdown",
   "id": "0722b109",
   "metadata": {},
   "source": [
    "1. STRING (str)\n",
    "\n",
    "✅ Definition:\n",
    "\n",
    "A String is an ordered sequence of characters enclosed in single, double, or triple quotes."
   ]
  },
  {
   "cell_type": "code",
   "execution_count": 41,
   "id": "1e3a166f",
   "metadata": {},
   "outputs": [],
   "source": [
    "name = \"Blockchain\"\n",
    "y = \"crypto\""
   ]
  },
  {
   "cell_type": "markdown",
   "id": "02dea9ba",
   "metadata": {},
   "source": [
    "## Common Methods and Functions in Strings"
   ]
  },
  {
   "cell_type": "code",
   "execution_count": 42,
   "id": "6a57b517",
   "metadata": {},
   "outputs": [],
   "source": [
    "name = 'blockchain'"
   ]
  },
  {
   "cell_type": "code",
   "execution_count": 43,
   "id": "5f33adb5",
   "metadata": {},
   "outputs": [
    {
     "data": {
      "text/plain": [
       "10"
      ]
     },
     "execution_count": 43,
     "metadata": {},
     "output_type": "execute_result"
    }
   ],
   "source": [
    "# len() -> Length of String \n",
    "len(name)"
   ]
  },
  {
   "cell_type": "code",
   "execution_count": 3,
   "id": "f5f03666",
   "metadata": {},
   "outputs": [
    {
     "name": "stdout",
     "output_type": "stream",
     "text": [
      "maryam\n"
     ]
    }
   ],
   "source": [
    "#covert string to lower case --> .lower()\n",
    "name = 'Maryam'\n",
    "print(name.lower())"
   ]
  },
  {
   "cell_type": "code",
   "execution_count": 4,
   "id": "8abac259",
   "metadata": {},
   "outputs": [
    {
     "name": "stdout",
     "output_type": "stream",
     "text": [
      "MARYAM\n"
     ]
    }
   ],
   "source": [
    "# convert string to upper case --> .upper()\n",
    "print(name.upper())"
   ]
  },
  {
   "cell_type": "code",
   "execution_count": 11,
   "id": "d0e9420a",
   "metadata": {},
   "outputs": [
    {
     "data": {
      "text/plain": [
       "'adamawa'"
      ]
     },
     "execution_count": 11,
     "metadata": {},
     "output_type": "execute_result"
    }
   ],
   "source": [
    "# remove spaces\n",
    "place = 'adamawa '\n",
    "\n",
    "place.strip()"
   ]
  },
  {
   "cell_type": "code",
   "execution_count": 12,
   "id": "83d367c2",
   "metadata": {},
   "outputs": [
    {
     "data": {
      "text/plain": [
       "'Abuja '"
      ]
     },
     "execution_count": 12,
     "metadata": {},
     "output_type": "execute_result"
    }
   ],
   "source": [
    "# replacing a substring--> .replace(old,new)\n",
    "place.replace('adamawa', 'Abuja')"
   ]
  },
  {
   "cell_type": "code",
   "execution_count": 14,
   "id": "97a3f5cb",
   "metadata": {},
   "outputs": [
    {
     "data": {
      "text/plain": [
       "'adamawa '"
      ]
     },
     "execution_count": 14,
     "metadata": {},
     "output_type": "execute_result"
    }
   ],
   "source": [
    "place"
   ]
  },
  {
   "cell_type": "markdown",
   "id": "2a476736",
   "metadata": {},
   "source": [
    "### However, when you recall 'place', it still returns 'adamawa'.<br> Hence, we reassign the whole code to 'place'."
   ]
  },
  {
   "cell_type": "code",
   "execution_count": 15,
   "id": "7e1594c1",
   "metadata": {},
   "outputs": [],
   "source": [
    "place = place.replace('adamawa', 'Abuja')"
   ]
  },
  {
   "cell_type": "code",
   "execution_count": 16,
   "id": "6f786ec5",
   "metadata": {},
   "outputs": [
    {
     "data": {
      "text/plain": [
       "'Abuja '"
      ]
     },
     "execution_count": 16,
     "metadata": {},
     "output_type": "execute_result"
    }
   ],
   "source": [
    "place"
   ]
  },
  {
   "cell_type": "code",
   "execution_count": 25,
   "id": "19a76144",
   "metadata": {},
   "outputs": [
    {
     "data": {
      "text/plain": [
       "['crypto', 'blockchain', 'price']"
      ]
     },
     "execution_count": 25,
     "metadata": {},
     "output_type": "execute_result"
    }
   ],
   "source": [
    "# split into list --> .split()\n",
    "x = 'crypto,blockchain,price'\n",
    "x = x.split(\",\")\n",
    "x"
   ]
  },
  {
   "cell_type": "code",
   "execution_count": 23,
   "id": "2f532c0d",
   "metadata": {},
   "outputs": [
    {
     "data": {
      "text/plain": [
       "list"
      ]
     },
     "execution_count": 23,
     "metadata": {},
     "output_type": "execute_result"
    }
   ],
   "source": [
    "type(x)"
   ]
  },
  {
   "cell_type": "code",
   "execution_count": 44,
   "id": "a1f171a4",
   "metadata": {},
   "outputs": [
    {
     "data": {
      "text/plain": [
       "True"
      ]
     },
     "execution_count": 44,
     "metadata": {},
     "output_type": "execute_result"
    }
   ],
   "source": [
    "# in -> Check Substring\n",
    "y = \"CryptoAsset\"\n",
    "\"Asset\" in y"
   ]
  },
  {
   "cell_type": "markdown",
   "id": "0d291125",
   "metadata": {},
   "source": [
    "## 2. LIST (list)\n",
    "✅ Definition:\n",
    "A List is an ordered, mutable, indexable collection of elements."
   ]
  },
  {
   "cell_type": "code",
   "execution_count": 45,
   "id": "8acb9955",
   "metadata": {},
   "outputs": [
    {
     "name": "stdout",
     "output_type": "stream",
     "text": [
      "<class 'list'>\n"
     ]
    }
   ],
   "source": [
    "tokens = ['ETH', 'BTC', 'SOL', 'ADA']\n",
    "print(type(tokens))"
   ]
  },
  {
   "cell_type": "markdown",
   "id": "72451170",
   "metadata": {},
   "source": [
    "### Common Method of a List"
   ]
  },
  {
   "cell_type": "code",
   "execution_count": 46,
   "id": "d5c4ec71",
   "metadata": {},
   "outputs": [
    {
     "data": {
      "text/plain": [
       "4"
      ]
     },
     "execution_count": 46,
     "metadata": {},
     "output_type": "execute_result"
    }
   ],
   "source": [
    "# len() -> Length of List\n",
    "len(tokens)"
   ]
  },
  {
   "cell_type": "code",
   "execution_count": 47,
   "id": "fd0ac247",
   "metadata": {},
   "outputs": [
    {
     "data": {
      "text/plain": [
       "['ETH', 'BTC', 'SOL', 'ADA', 'TIA']"
      ]
     },
     "execution_count": 47,
     "metadata": {},
     "output_type": "execute_result"
    }
   ],
   "source": [
    "# .append(x) -> Add to the End of a List\n",
    "tokens.append('TIA')\n",
    "tokens"
   ]
  },
  {
   "cell_type": "code",
   "execution_count": 48,
   "id": "8e8ec2eb",
   "metadata": {},
   "outputs": [
    {
     "data": {
      "text/plain": [
       "['ETH', 'BTC', 'SOL', 'SOL', 'ADA', 'TIA']"
      ]
     },
     "execution_count": 48,
     "metadata": {},
     "output_type": "execute_result"
    }
   ],
   "source": [
    "# .insert(i, x) -> Adds to an index\n",
    "tokens.insert(2, 'SOL')\n",
    "tokens"
   ]
  },
  {
   "cell_type": "code",
   "execution_count": 49,
   "id": "fa53750b",
   "metadata": {},
   "outputs": [
    {
     "data": {
      "text/plain": [
       "['ETH', 'BTC', 'SOL', 'ADA', 'TIA']"
      ]
     },
     "execution_count": 49,
     "metadata": {},
     "output_type": "execute_result"
    }
   ],
   "source": [
    "# .remove(x) -> Removes the first match \n",
    "tokens.remove('SOL')\n",
    "tokens "
   ]
  },
  {
   "cell_type": "code",
   "execution_count": 50,
   "id": "de2964a0",
   "metadata": {},
   "outputs": [
    {
     "data": {
      "text/plain": [
       "['ETH', 'BTC', 'SOL', 'ADA']"
      ]
     },
     "execution_count": 50,
     "metadata": {},
     "output_type": "execute_result"
    }
   ],
   "source": [
    "# .pop(i) --> Removes and Return\n",
    "tokens.pop(4)\n",
    "tokens"
   ]
  },
  {
   "cell_type": "code",
   "execution_count": 40,
   "id": "2fc73ea6",
   "metadata": {},
   "outputs": [
    {
     "data": {
      "text/plain": [
       "['ada', 'btc', 'eth', 'sdc', 'sol']"
      ]
     },
     "execution_count": 40,
     "metadata": {},
     "output_type": "execute_result"
    }
   ],
   "source": [
    "# .sort()\n",
    "y = ['ada','btc','sdc','eth','sol']\n",
    "y.sort()\n",
    "y"
   ]
  },
  {
   "cell_type": "code",
   "execution_count": 51,
   "id": "2c6f8fd6",
   "metadata": {},
   "outputs": [
    {
     "data": {
      "text/plain": [
       "['ADA', 'SOL', 'BTC', 'ETH']"
      ]
     },
     "execution_count": 51,
     "metadata": {},
     "output_type": "execute_result"
    }
   ],
   "source": [
    "# .reverse() --> Reverse List\n",
    "\n",
    "tokens.reverse()\n",
    "tokens"
   ]
  },
  {
   "cell_type": "markdown",
   "id": "06657d74",
   "metadata": {},
   "source": [
    "### Indexing and slicing"
   ]
  },
  {
   "cell_type": "code",
   "execution_count": 52,
   "id": "da7f62d6",
   "metadata": {},
   "outputs": [
    {
     "data": {
      "text/plain": [
       "('BTC', 'TIA')"
      ]
     },
     "execution_count": 52,
     "metadata": {},
     "output_type": "execute_result"
    }
   ],
   "source": [
    "z = ['ETH', 'BTC', 'SOL', 'ADA', 'TIA']\n",
    "r = z[1],z[4]\n",
    "#z[1::4]\n",
    "r"
   ]
  },
  {
   "cell_type": "markdown",
   "id": "9e43f564",
   "metadata": {},
   "source": [
    "## 3. TUPLE (tuple)\n",
    "✅ Definition:\n",
    "A Tuple is an ordered, immutable collection.\n",
    "\n",
    "## 4. SET (set)\n",
    "✅ Definition:\n",
    "A Set is an unordered, unindexed, mutable collection of unique elements.\n",
    "\n",
    "## 5. DICTIONARY (dict)\n",
    "✅ Definition:\n",
    "A Dictionary is an unordered, mutable collection of key-value pairs."
   ]
  },
  {
   "cell_type": "code",
   "execution_count": 53,
   "id": "441e06d7",
   "metadata": {},
   "outputs": [
    {
     "data": {
      "text/plain": [
       "{'address': '0xA1B2', 'balance': 4.5, 'is_active': True}"
      ]
     },
     "execution_count": 53,
     "metadata": {},
     "output_type": "execute_result"
    }
   ],
   "source": [
    "# key:value\n",
    "wallet = {\n",
    "    \"address\":\"0xA1B2\",\n",
    "    \"balance\":4.5,\n",
    "    \"is_active\":True\n",
    "}\n",
    "\n",
    "wallet"
   ]
  },
  {
   "cell_type": "markdown",
   "id": "4dcdc8fa",
   "metadata": {},
   "source": [
    "### Common Methods in Dictionary"
   ]
  },
  {
   "cell_type": "code",
   "execution_count": 54,
   "id": "2c857932",
   "metadata": {},
   "outputs": [
    {
     "data": {
      "text/plain": [
       "4.5"
      ]
     },
     "execution_count": 54,
     "metadata": {},
     "output_type": "execute_result"
    }
   ],
   "source": [
    "# dict[key] --> Get value by key\n",
    "wallet[\"balance\"]"
   ]
  },
  {
   "cell_type": "code",
   "execution_count": 55,
   "id": "fe6809b4",
   "metadata": {},
   "outputs": [
    {
     "data": {
      "text/plain": [
       "True"
      ]
     },
     "execution_count": 55,
     "metadata": {},
     "output_type": "execute_result"
    }
   ],
   "source": [
    "# .get(key) --> Safe Access\n",
    "wallet.get(\"is_active\")"
   ]
  },
  {
   "cell_type": "code",
   "execution_count": 56,
   "id": "ea89a3d2",
   "metadata": {},
   "outputs": [
    {
     "data": {
      "text/plain": [
       "dict_keys(['address', 'balance', 'is_active'])"
      ]
     },
     "execution_count": 56,
     "metadata": {},
     "output_type": "execute_result"
    }
   ],
   "source": [
    "# .keys() --> All keys\n",
    "wallet.keys()"
   ]
  },
  {
   "cell_type": "code",
   "execution_count": 57,
   "id": "b144afd6",
   "metadata": {},
   "outputs": [
    {
     "data": {
      "text/plain": [
       "dict_values(['0xA1B2', 4.5, True])"
      ]
     },
     "execution_count": 57,
     "metadata": {},
     "output_type": "execute_result"
    }
   ],
   "source": [
    "# .values() --> All values\n",
    "wallet.values()"
   ]
  },
  {
   "cell_type": "code",
   "execution_count": 58,
   "id": "c27a0019",
   "metadata": {},
   "outputs": [
    {
     "data": {
      "text/plain": [
       "dict_items([('address', '0xA1B2'), ('balance', 4.5), ('is_active', True)])"
      ]
     },
     "execution_count": 58,
     "metadata": {},
     "output_type": "execute_result"
    }
   ],
   "source": [
    "# .items() --> Key-Value Pairs\n",
    "wallet.items()"
   ]
  },
  {
   "cell_type": "code",
   "execution_count": 59,
   "id": "6a2ac0e0",
   "metadata": {},
   "outputs": [
    {
     "data": {
      "text/plain": [
       "{'address': '0xA1B2', 'balance': 500, 'is_active': True}"
      ]
     },
     "execution_count": 59,
     "metadata": {},
     "output_type": "execute_result"
    }
   ],
   "source": [
    "# .update({}) --> updates the Dictionary\n",
    "wallet.update({\"balance\": 500})\n",
    "wallet"
   ]
  },
  {
   "cell_type": "code",
   "execution_count": 60,
   "id": "7d5006ba",
   "metadata": {},
   "outputs": [
    {
     "data": {
      "text/plain": [
       "{'address': '0xA1B2', 'balance': 500, 'is_active': False}"
      ]
     },
     "execution_count": 60,
     "metadata": {},
     "output_type": "execute_result"
    }
   ],
   "source": [
    "wallet.update({'is_active': False})\n",
    "wallet"
   ]
  },
  {
   "cell_type": "code",
   "execution_count": 61,
   "id": "c09f1e5d",
   "metadata": {},
   "outputs": [
    {
     "data": {
      "text/plain": [
       "{'address': '0xA1B2', 'balance': 500}"
      ]
     },
     "execution_count": 61,
     "metadata": {},
     "output_type": "execute_result"
    }
   ],
   "source": [
    "# .pop(key) --> Remove by Key\n",
    "wallet.pop(\"is_active\")\n",
    "wallet"
   ]
  },
  {
   "cell_type": "markdown",
   "id": "8a77cd7f",
   "metadata": {},
   "source": [
    "# 3. Tuple\n",
    "A tuple is an ordered, immutable collection."
   ]
  },
  {
   "cell_type": "code",
   "execution_count": 5,
   "id": "92e9aeba",
   "metadata": {},
   "outputs": [],
   "source": [
    "block = ('BTC', 2025, 'halving','BTC')"
   ]
  },
  {
   "cell_type": "code",
   "execution_count": 4,
   "id": "3d06e3bb",
   "metadata": {},
   "outputs": [
    {
     "data": {
      "text/plain": [
       "3"
      ]
     },
     "execution_count": 4,
     "metadata": {},
     "output_type": "execute_result"
    }
   ],
   "source": [
    "# len[] --> Length of the tuple\n",
    "len(block)"
   ]
  },
  {
   "cell_type": "code",
   "execution_count": 6,
   "id": "2bb89d25",
   "metadata": {},
   "outputs": [
    {
     "data": {
      "text/plain": [
       "2"
      ]
     },
     "execution_count": 6,
     "metadata": {},
     "output_type": "execute_result"
    }
   ],
   "source": [
    "# .count(x) --> Count Occurrences\n",
    "block.count('BTC')"
   ]
  },
  {
   "cell_type": "code",
   "execution_count": 7,
   "id": "c3f72210",
   "metadata": {},
   "outputs": [
    {
     "data": {
      "text/plain": [
       "2"
      ]
     },
     "execution_count": 7,
     "metadata": {},
     "output_type": "execute_result"
    }
   ],
   "source": [
    "# index() --> Get Index of an Item\n",
    "block.index('halving')"
   ]
  },
  {
   "cell_type": "code",
   "execution_count": 8,
   "id": "d5625314",
   "metadata": {},
   "outputs": [
    {
     "data": {
      "text/plain": [
       "True"
      ]
     },
     "execution_count": 8,
     "metadata": {},
     "output_type": "execute_result"
    }
   ],
   "source": [
    "# in -> Check Item in Tuple\n",
    "'BTC' in block"
   ]
  },
  {
   "cell_type": "markdown",
   "id": "b790c0d6",
   "metadata": {},
   "source": [
    "# SET (set)\n",
    "A set is an unordered, unindexed, mutable collection of unique elements"
   ]
  },
  {
   "cell_type": "code",
   "execution_count": 9,
   "id": "0413459f",
   "metadata": {},
   "outputs": [],
   "source": [
    "# create a set\n",
    "my_set = {'BTC', 'ETH', 'SOL', 'ADA'}"
   ]
  },
  {
   "cell_type": "markdown",
   "id": "496a6d38",
   "metadata": {},
   "source": [
    "### Common mehtods/Functions in SET"
   ]
  },
  {
   "cell_type": "code",
   "execution_count": 11,
   "id": "b46e0c7b",
   "metadata": {},
   "outputs": [
    {
     "data": {
      "text/plain": [
       "{'ADA', 'BTC', 'ETH', 'SOL', 'TIA'}"
      ]
     },
     "execution_count": 11,
     "metadata": {},
     "output_type": "execute_result"
    }
   ],
   "source": [
    "# .add(x) --> Add to Set\n",
    "my_set.add('TIA')\n",
    "my_set"
   ]
  },
  {
   "cell_type": "code",
   "execution_count": 12,
   "id": "b208576b",
   "metadata": {},
   "outputs": [
    {
     "data": {
      "text/plain": [
       "{'ADA', 'BTC', 'ETH', 'SOL'}"
      ]
     },
     "execution_count": 12,
     "metadata": {},
     "output_type": "execute_result"
    }
   ],
   "source": [
    "# .remove(x) --> Remove element or error if any present from Set\n",
    "my_set.remove('TIA')\n",
    "my_set"
   ]
  },
  {
   "cell_type": "code",
   "execution_count": 13,
   "id": "5fad0cff",
   "metadata": {},
   "outputs": [
    {
     "data": {
      "text/plain": [
       "{'ADA', 'BTC', 'SOL'}"
      ]
     },
     "execution_count": 13,
     "metadata": {},
     "output_type": "execute_result"
    }
   ],
   "source": [
    "# .discard(x) --> Remove element or do nothing if not present\n",
    "my_set.discard('ETH')\n",
    "my_set"
   ]
  },
  {
   "cell_type": "code",
   "execution_count": 14,
   "id": "94d39b2e",
   "metadata": {},
   "outputs": [
    {
     "data": {
      "text/plain": [
       "{1, 2, 3, 4, 5}"
      ]
     },
     "execution_count": 14,
     "metadata": {},
     "output_type": "execute_result"
    }
   ],
   "source": [
    "# .union(other_set) --> Union of Sets\n",
    "set1 = {1, 2, 3}\n",
    "set2 = {3, 4, 5}\n",
    "set1.union(set2)"
   ]
  },
  {
   "cell_type": "code",
   "execution_count": 15,
   "id": "e681f32d",
   "metadata": {},
   "outputs": [
    {
     "data": {
      "text/plain": [
       "{3}"
      ]
     },
     "execution_count": 15,
     "metadata": {},
     "output_type": "execute_result"
    }
   ],
   "source": [
    "# .intersection(other_set) --> Selects the common elements\n",
    "set1.intersection(set2)"
   ]
  },
  {
   "cell_type": "code",
   "execution_count": 16,
   "id": "0d5a2651",
   "metadata": {},
   "outputs": [
    {
     "data": {
      "text/plain": [
       "{1, 2}"
      ]
     },
     "execution_count": 16,
     "metadata": {},
     "output_type": "execute_result"
    }
   ],
   "source": [
    "# .difference(other_set) --> Selects the unique elements\n",
    "set1.difference(set2)"
   ]
  },
  {
   "cell_type": "code",
   "execution_count": 18,
   "id": "b8534f42",
   "metadata": {},
   "outputs": [
    {
     "data": {
      "text/plain": [
       "False"
      ]
     },
     "execution_count": 18,
     "metadata": {},
     "output_type": "execute_result"
    }
   ],
   "source": [
    "# in -> Check Item in Tuple\n",
    "'BNB' in block"
   ]
  },
  {
   "cell_type": "markdown",
   "id": "dbf7faa9",
   "metadata": {},
   "source": [
    "### 6. Nested Data Structures"
   ]
  },
  {
   "cell_type": "markdown",
   "id": "4982ed54",
   "metadata": {},
   "source": [
    "### A. List of Lists (2D List)"
   ]
  },
  {
   "cell_type": "code",
   "execution_count": 19,
   "id": "832c6682",
   "metadata": {},
   "outputs": [
    {
     "name": "stdout",
     "output_type": "stream",
     "text": [
      "2024\n"
     ]
    }
   ],
   "source": [
    "# list of lists\n",
    "matrix = [\n",
    "    ['BTC', 2025, 'halving', 'BTC'],\n",
    "    ['ETH', 2024, 'upgrade', 'ETH'],\n",
    "    ['SOL', 2023, 'scaling', 'SOL']\n",
    "]\n",
    "print(matrix[1][1])"
   ]
  },
  {
   "cell_type": "code",
   "execution_count": 20,
   "id": "c2122e79",
   "metadata": {},
   "outputs": [
    {
     "name": "stdout",
     "output_type": "stream",
     "text": [
      "scaling\n"
     ]
    }
   ],
   "source": [
    "\n",
    "print(matrix[2][2])  # Accessing third element of third list    \n"
   ]
  },
  {
   "cell_type": "code",
   "execution_count": 22,
   "id": "821ca7eb",
   "metadata": {},
   "outputs": [
    {
     "data": {
      "text/plain": [
       "'upgrade'"
      ]
     },
     "execution_count": 22,
     "metadata": {},
     "output_type": "execute_result"
    }
   ],
   "source": [
    "# list of dictionaries -->  list that has dictionaries in it\n",
    "data = [\n",
    "    {'name': 'BTC', 'year': 2025, 'event': 'halving'},\n",
    "    {'name': 'ETH', 'year': 2024, 'event': 'upgrade'},\n",
    "    {'name': 'SOL', 'year': 2023, 'event': 'scaling'}\n",
    "]\n",
    "data[1]['event']"
   ]
  },
  {
   "cell_type": "code",
   "execution_count": 23,
   "id": "22d1b6ac",
   "metadata": {},
   "outputs": [
    {
     "data": {
      "text/plain": [
       "'Divine'"
      ]
     },
     "execution_count": 23,
     "metadata": {},
     "output_type": "execute_result"
    }
   ],
   "source": [
    "users = [\n",
    "    {'name':'Maryam', 'wallet':'0xADF'},\n",
    "    {'name': 'Bob', 'wallet':'0xJGH'},\n",
    "    {'name': 'Rotimi', 'wallet':'0xKKH'},\n",
    "    {'name': 'Mario', 'wallet':'0xEWH'},\n",
    "    {'name': 'Divine', 'wallet':'0xHFH'},\n",
    "    {'name': 'Wale', 'wallet':'0xJGH'}\n",
    "]\n",
    "users[4]['name']"
   ]
  },
  {
   "cell_type": "markdown",
   "id": "7c0682ea",
   "metadata": {},
   "source": [
    "### C. Dictionary of Lists"
   ]
  },
  {
   "cell_type": "code",
   "execution_count": 25,
   "id": "6a36de97",
   "metadata": {},
   "outputs": [
    {
     "data": {
      "text/plain": [
       "'Bob'"
      ]
     },
     "execution_count": 25,
     "metadata": {},
     "output_type": "execute_result"
    }
   ],
   "source": [
    "# Dictionary of Lists\n",
    "users = {    'names': ['Maryam', 'Bob', 'Rotimi', 'Mario', 'Divine', 'Wale'],\n",
    "    'wallets': ['0xADF', '0xJGH', '0xKKH', '0xEWH', '0xHFH', '0xJGH']\n",
    "}\n",
    "# fetch 'Bob' from the dictionary of lists\n",
    "users['names'][1]"
   ]
  },
  {
   "cell_type": "markdown",
   "id": "86399a7d",
   "metadata": {},
   "source": [
    "### D. Nested Dictionary (Dict of Dict)"
   ]
  },
  {
   "cell_type": "code",
   "execution_count": 29,
   "id": "76f0a2d3",
   "metadata": {},
   "outputs": [
    {
     "name": "stdout",
     "output_type": "stream",
     "text": [
      "Alice\n",
      "25\n"
     ]
    }
   ],
   "source": [
    "# Nested dictionary\n",
    "nested_dict = {\n",
    "    'user1': {'name': 'Alice', 'age': 30},\n",
    "    'user2': {'name': 'Bob', 'age': 25} \n",
    "}\n",
    "print(nested_dict['user1']['name'])  # Accessing name of user1\n",
    "print(nested_dict['user2']['age'])   # Accessing age of user2"
   ]
  },
  {
   "cell_type": "markdown",
   "id": "e36a3a96",
   "metadata": {},
   "source": [
    "### E. Mix and Match Examples"
   ]
  },
  {
   "cell_type": "code",
   "execution_count": 30,
   "id": "b360f110",
   "metadata": {},
   "outputs": [
    {
     "name": "stdout",
     "output_type": "stream",
     "text": [
      "Alice\n"
     ]
    }
   ],
   "source": [
    "# Mix and Match\n",
    "users = {\n",
    "    'names': ['Maryam', 'Bob', 'Rotimi', 'Mario', 'Divine', 'Wale'],\n",
    "    'wallets': ['0xADF', '0xJGH', '0xKKH', '0xEWH', '0xHFH', '0xJGH'],\n",
    "    'nested_dict': {\n",
    "        'user1': {'name': 'Alice', 'age': 30},\n",
    "        'user2': {'name': 'Bob', 'age': 25}\n",
    "    }\n",
    "}\n",
    "# Accessing nested dictionary\n",
    "print(users['nested_dict']['user1']['name'])  # Accessing name of user1"
   ]
  }
 ],
 "metadata": {
  "kernelspec": {
   "display_name": "lesson1",
   "language": "python",
   "name": "python3"
  },
  "language_info": {
   "codemirror_mode": {
    "name": "ipython",
    "version": 3
   },
   "file_extension": ".py",
   "mimetype": "text/x-python",
   "name": "python",
   "nbconvert_exporter": "python",
   "pygments_lexer": "ipython3",
   "version": "3.12.10"
  }
 },
 "nbformat": 4,
 "nbformat_minor": 5
}
