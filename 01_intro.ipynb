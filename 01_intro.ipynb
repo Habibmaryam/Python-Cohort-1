{
 "cells": [
  {
   "cell_type": "markdown",
   "id": "19a7d2ef",
   "metadata": {},
   "source": [
    "# What is a Syntax"
   ]
  },
  {
   "cell_type": "markdown",
   "id": "cd468acb",
   "metadata": {},
   "source": []
  },
  {
   "cell_type": "markdown",
   "id": "ee64c78c",
   "metadata": {},
   "source": [
    "### Key Rules to Know:\n",
    "\n",
    "Comments (#) –  Comments are like sticky notes in your code. They start with # and are ignored by Python, so they’re just for you or others to understand what the code does.<br>\n",
    "Example: # This calculates your age<br>\n",
    "Indentation (Spaces/Tabs) – Python uses them to group code (like paragraphs in a book).<br>\n",
    "Code Blocks – Sections of code that belong together (e.g., inside loops or functions).<br>\n",
    "Keywords – Special words Python reserves (e.g., if, for, while). Don’t use these as variable names!"
   ]
  },
  {
   "cell_type": "markdown",
   "id": "8d522a10",
   "metadata": {},
   "source": [
    "#### F string\n",
    "It is formatted string literals.Its is a way to embedd formatted string inside a string literal in python."
   ]
  },
  {
   "cell_type": "code",
   "execution_count": 4,
   "id": "03c4f159",
   "metadata": {},
   "outputs": [
    {
     "name": "stdout",
     "output_type": "stream",
     "text": [
      "Hello {'Alice'}\n"
     ]
    }
   ],
   "source": [
    "name = 'Alice'\n",
    "print(f'Hello', {name})"
   ]
  },
  {
   "cell_type": "markdown",
   "id": "8d2fa64e",
   "metadata": {},
   "source": [
    "##### Input"
   ]
  },
  {
   "cell_type": "code",
   "execution_count": 3,
   "id": "4705df3c",
   "metadata": {},
   "outputs": [
    {
     "name": "stdout",
     "output_type": "stream",
     "text": [
      "My favorite crypto asset is Ethereum\n"
     ]
    }
   ],
   "source": [
    "crypto = input('Enter your favorite crypto Asset:')\n",
    "print('My favorite crypto asset is ' + crypto)"
   ]
  },
  {
   "cell_type": "code",
   "execution_count": 5,
   "id": "8e1b81d6",
   "metadata": {},
   "outputs": [
    {
     "name": "stdout",
     "output_type": "stream",
     "text": [
      "Hello Maryam\n"
     ]
    }
   ],
   "source": [
    "name = input('Enter your name:')\n",
    "print('Hello ' + name)"
   ]
  },
  {
   "cell_type": "code",
   "execution_count": 8,
   "id": "3bf78518",
   "metadata": {},
   "outputs": [
    {
     "name": "stdout",
     "output_type": "stream",
     "text": [
      "You are 40 years old\n"
     ]
    }
   ],
   "source": [
    "age = int(input('Enter your age:'))\n",
    "print(f'You are {age} years old')"
   ]
  },
  {
   "cell_type": "markdown",
   "id": "3375f371",
   "metadata": {},
   "source": [
    "### Naming Rules:\n",
    "Start with a letter or _ (not a number).<br>\n",
    "Can contain letters, numbers, or _ (no spaces or symbols).<br>\n",
    "Case-sensitive (Name ≠ name).<br>\n",
    "Avoid Python keywords (e.g., don’t name a variable print).<br>"
   ]
  },
  {
   "cell_type": "code",
   "execution_count": null,
   "id": "96e3d82c",
   "metadata": {},
   "outputs": [],
   "source": []
  },
  {
   "cell_type": "markdown",
   "id": "c094c91a",
   "metadata": {},
   "source": [
    "### Text Data Types\n",
    "#### - String"
   ]
  },
  {
   "cell_type": "code",
   "execution_count": null,
   "id": "84c9066d",
   "metadata": {},
   "outputs": [],
   "source": [
    "# String data type represent text"
   ]
  },
  {
   "cell_type": "markdown",
   "id": "c142198d",
   "metadata": {},
   "source": [
    "### Squence Data Type:\n",
    "\n"
   ]
  },
  {
   "cell_type": "markdown",
   "id": "10b25a8f",
   "metadata": {},
   "source": [
    "# Data Structure in Python\n",
    "\n",
    "#### What is a Data Structure in Python?\n",
    "\n",
    "\n",
    "A data structure is a way to organize, store, and access data efficiently so it can be used effectively. In Python, data structures are built-in types that allow you to group and manipulate data in different formats depending on your need.\n",
    "\n",
    "Why Are Data Structures Important?\n",
    "✅ Help you manage and organize data better.\n",
    "\n",
    "✅ Make data retrieval, updating, and manipulation easier.\n",
    "\n",
    "✅ Essential for solving real-world problems efficiently.\n",
    "\n",
    "✅ Common in blockchain analytics (e.g., wallet records, transaction logs)\n",
    "\n",
    "Common Built-in Data Structures in Python\n",
    "Data Structure Description Example\n",
    "\n",
    "String A sequence of characters \"Bitcoin\"\n",
    "\n",
    "List Ordered, mutable sequence [1, 2, 3]\n",
    "\n",
    "Tuple Ordered, immutable sequence (4, 5, 6)\n",
    "\n",
    "Set Unordered collection of unique items {1, 2, 3}\n",
    "\n",
    "Dictionary Key-value pairs {\"name\": \"Alice\", \"wallet\": \"0xABC\"}\n",
    "\n",
    "Where Do You See Data Structures in Blockchain?\n",
    "Blockchain Element Python Structure\n",
    "\n",
    "Wallet → tokens --- Dictionary or List\n",
    "\n",
    "Transaction log --- List of dictionaries\n",
    "\n",
    "Token prices (ETH → USD) --- Dictionary\n",
    "\n",
    "Address metadata --- Nested dictionary\n",
    "\n",
    "Smart contract parameters --- Tuple or Dict"
   ]
  },
  {
   "cell_type": "markdown",
   "id": "0722b109",
   "metadata": {},
   "source": [
    "1. STRING (str)\n",
    "\n",
    "✅ Definition:\n",
    "\n",
    "A String is an ordered sequence of characters enclosed in single, double, or triple quotes."
   ]
  },
  {
   "cell_type": "code",
   "execution_count": 41,
   "id": "1e3a166f",
   "metadata": {},
   "outputs": [],
   "source": [
    "name = \"Blockchain\"\n",
    "y = \"crypto\""
   ]
  },
  {
   "cell_type": "markdown",
   "id": "02dea9ba",
   "metadata": {},
   "source": [
    "## Common Methods and Functions in Strings"
   ]
  },
  {
   "cell_type": "code",
   "execution_count": 42,
   "id": "6a57b517",
   "metadata": {},
   "outputs": [],
   "source": [
    "name = 'blockchain'"
   ]
  },
  {
   "cell_type": "code",
   "execution_count": 43,
   "id": "5f33adb5",
   "metadata": {},
   "outputs": [
    {
     "data": {
      "text/plain": [
       "10"
      ]
     },
     "execution_count": 43,
     "metadata": {},
     "output_type": "execute_result"
    }
   ],
   "source": [
    "# len() -> Length of String \n",
    "len(name)"
   ]
  },
  {
   "cell_type": "code",
   "execution_count": 3,
   "id": "f5f03666",
   "metadata": {},
   "outputs": [
    {
     "name": "stdout",
     "output_type": "stream",
     "text": [
      "maryam\n"
     ]
    }
   ],
   "source": [
    "#covert string to lower case --> .lower()\n",
    "name = 'Maryam'\n",
    "print(name.lower())"
   ]
  },
  {
   "cell_type": "code",
   "execution_count": 4,
   "id": "8abac259",
   "metadata": {},
   "outputs": [
    {
     "name": "stdout",
     "output_type": "stream",
     "text": [
      "MARYAM\n"
     ]
    }
   ],
   "source": [
    "# convert string to upper case --> .upper()\n",
    "print(name.upper())"
   ]
  },
  {
   "cell_type": "code",
   "execution_count": 11,
   "id": "d0e9420a",
   "metadata": {},
   "outputs": [
    {
     "data": {
      "text/plain": [
       "'adamawa'"
      ]
     },
     "execution_count": 11,
     "metadata": {},
     "output_type": "execute_result"
    }
   ],
   "source": [
    "# remove spaces\n",
    "place = 'adamawa '\n",
    "\n",
    "place.strip()"
   ]
  },
  {
   "cell_type": "code",
   "execution_count": 12,
   "id": "83d367c2",
   "metadata": {},
   "outputs": [
    {
     "data": {
      "text/plain": [
       "'Abuja '"
      ]
     },
     "execution_count": 12,
     "metadata": {},
     "output_type": "execute_result"
    }
   ],
   "source": [
    "# replacing a substring--> .replace(old,new)\n",
    "place.replace('adamawa', 'Abuja')"
   ]
  },
  {
   "cell_type": "code",
   "execution_count": 14,
   "id": "97a3f5cb",
   "metadata": {},
   "outputs": [
    {
     "data": {
      "text/plain": [
       "'adamawa '"
      ]
     },
     "execution_count": 14,
     "metadata": {},
     "output_type": "execute_result"
    }
   ],
   "source": [
    "place"
   ]
  },
  {
   "cell_type": "markdown",
   "id": "2a476736",
   "metadata": {},
   "source": [
    "### However, when you recall 'place', it still returns 'adamawa'.<br> Hence, we reassign the whole code to 'place'."
   ]
  },
  {
   "cell_type": "code",
   "execution_count": 15,
   "id": "7e1594c1",
   "metadata": {},
   "outputs": [],
   "source": [
    "place = place.replace('adamawa', 'Abuja')"
   ]
  },
  {
   "cell_type": "code",
   "execution_count": 16,
   "id": "6f786ec5",
   "metadata": {},
   "outputs": [
    {
     "data": {
      "text/plain": [
       "'Abuja '"
      ]
     },
     "execution_count": 16,
     "metadata": {},
     "output_type": "execute_result"
    }
   ],
   "source": [
    "place"
   ]
  },
  {
   "cell_type": "code",
   "execution_count": 25,
   "id": "19a76144",
   "metadata": {},
   "outputs": [
    {
     "data": {
      "text/plain": [
       "['crypto', 'blockchain', 'price']"
      ]
     },
     "execution_count": 25,
     "metadata": {},
     "output_type": "execute_result"
    }
   ],
   "source": [
    "# split into list --> .split()\n",
    "x = 'crypto,blockchain,price'\n",
    "x = x.split(\",\")\n",
    "x"
   ]
  },
  {
   "cell_type": "code",
   "execution_count": 23,
   "id": "2f532c0d",
   "metadata": {},
   "outputs": [
    {
     "data": {
      "text/plain": [
       "list"
      ]
     },
     "execution_count": 23,
     "metadata": {},
     "output_type": "execute_result"
    }
   ],
   "source": [
    "type(x)"
   ]
  },
  {
   "cell_type": "code",
   "execution_count": 44,
   "id": "a1f171a4",
   "metadata": {},
   "outputs": [
    {
     "data": {
      "text/plain": [
       "True"
      ]
     },
     "execution_count": 44,
     "metadata": {},
     "output_type": "execute_result"
    }
   ],
   "source": [
    "# in -> Check Substring\n",
    "y = \"CryptoAsset\"\n",
    "\"Asset\" in y"
   ]
  },
  {
   "cell_type": "markdown",
   "id": "0d291125",
   "metadata": {},
   "source": [
    "## 2. LIST (list)\n",
    "✅ Definition:\n",
    "A List is an ordered, mutable, indexable collection of elements."
   ]
  },
  {
   "cell_type": "code",
   "execution_count": 45,
   "id": "8acb9955",
   "metadata": {},
   "outputs": [
    {
     "name": "stdout",
     "output_type": "stream",
     "text": [
      "<class 'list'>\n"
     ]
    }
   ],
   "source": [
    "tokens = ['ETH', 'BTC', 'SOL', 'ADA']\n",
    "print(type(tokens))"
   ]
  },
  {
   "cell_type": "markdown",
   "id": "72451170",
   "metadata": {},
   "source": [
    "### Common Method of a List"
   ]
  },
  {
   "cell_type": "code",
   "execution_count": 46,
   "id": "d5c4ec71",
   "metadata": {},
   "outputs": [
    {
     "data": {
      "text/plain": [
       "4"
      ]
     },
     "execution_count": 46,
     "metadata": {},
     "output_type": "execute_result"
    }
   ],
   "source": [
    "# len() -> Length of List\n",
    "len(tokens)"
   ]
  },
  {
   "cell_type": "code",
   "execution_count": 47,
   "id": "fd0ac247",
   "metadata": {},
   "outputs": [
    {
     "data": {
      "text/plain": [
       "['ETH', 'BTC', 'SOL', 'ADA', 'TIA']"
      ]
     },
     "execution_count": 47,
     "metadata": {},
     "output_type": "execute_result"
    }
   ],
   "source": [
    "# .append(x) -> Add to the End of a List\n",
    "tokens.append('TIA')\n",
    "tokens"
   ]
  },
  {
   "cell_type": "code",
   "execution_count": 48,
   "id": "8e8ec2eb",
   "metadata": {},
   "outputs": [
    {
     "data": {
      "text/plain": [
       "['ETH', 'BTC', 'SOL', 'SOL', 'ADA', 'TIA']"
      ]
     },
     "execution_count": 48,
     "metadata": {},
     "output_type": "execute_result"
    }
   ],
   "source": [
    "# .insert(i, x) -> Adds to an index\n",
    "tokens.insert(2, 'SOL')\n",
    "tokens"
   ]
  },
  {
   "cell_type": "code",
   "execution_count": 49,
   "id": "fa53750b",
   "metadata": {},
   "outputs": [
    {
     "data": {
      "text/plain": [
       "['ETH', 'BTC', 'SOL', 'ADA', 'TIA']"
      ]
     },
     "execution_count": 49,
     "metadata": {},
     "output_type": "execute_result"
    }
   ],
   "source": [
    "# .remove(x) -> Removes the first match \n",
    "tokens.remove('SOL')\n",
    "tokens "
   ]
  },
  {
   "cell_type": "code",
   "execution_count": 50,
   "id": "de2964a0",
   "metadata": {},
   "outputs": [
    {
     "data": {
      "text/plain": [
       "['ETH', 'BTC', 'SOL', 'ADA']"
      ]
     },
     "execution_count": 50,
     "metadata": {},
     "output_type": "execute_result"
    }
   ],
   "source": [
    "# .pop(i) --> Removes and Return\n",
    "tokens.pop(4)\n",
    "tokens"
   ]
  },
  {
   "cell_type": "code",
   "execution_count": 40,
   "id": "2fc73ea6",
   "metadata": {},
   "outputs": [
    {
     "data": {
      "text/plain": [
       "['ada', 'btc', 'eth', 'sdc', 'sol']"
      ]
     },
     "execution_count": 40,
     "metadata": {},
     "output_type": "execute_result"
    }
   ],
   "source": [
    "# .sort()\n",
    "y = ['ada','btc','sdc','eth','sol']\n",
    "y.sort()\n",
    "y"
   ]
  },
  {
   "cell_type": "code",
   "execution_count": 51,
   "id": "2c6f8fd6",
   "metadata": {},
   "outputs": [
    {
     "data": {
      "text/plain": [
       "['ADA', 'SOL', 'BTC', 'ETH']"
      ]
     },
     "execution_count": 51,
     "metadata": {},
     "output_type": "execute_result"
    }
   ],
   "source": [
    "# .reverse() --> Reverse List\n",
    "\n",
    "tokens.reverse()\n",
    "tokens"
   ]
  },
  {
   "cell_type": "markdown",
   "id": "06657d74",
   "metadata": {},
   "source": [
    "### Indexing and slicing"
   ]
  },
  {
   "cell_type": "code",
   "execution_count": 52,
   "id": "da7f62d6",
   "metadata": {},
   "outputs": [
    {
     "data": {
      "text/plain": [
       "('BTC', 'TIA')"
      ]
     },
     "execution_count": 52,
     "metadata": {},
     "output_type": "execute_result"
    }
   ],
   "source": [
    "z = ['ETH', 'BTC', 'SOL', 'ADA', 'TIA']\n",
    "r = z[1],z[4]\n",
    "#z[1::4]\n",
    "r"
   ]
  },
  {
   "cell_type": "markdown",
   "id": "9e43f564",
   "metadata": {},
   "source": [
    "## 3. TUPLE (tuple)\n",
    "✅ Definition:\n",
    "A Tuple is an ordered, immutable collection.\n",
    "\n",
    "## 4. SET (set)\n",
    "✅ Definition:\n",
    "A Set is an unordered, unindexed, mutable collection of unique elements.\n",
    "\n",
    "## 5. DICTIONARY (dict)\n",
    "✅ Definition:\n",
    "A Dictionary is an unordered, mutable collection of key-value pairs."
   ]
  },
  {
   "cell_type": "code",
   "execution_count": 53,
   "id": "441e06d7",
   "metadata": {},
   "outputs": [
    {
     "data": {
      "text/plain": [
       "{'address': '0xA1B2', 'balance': 4.5, 'is_active': True}"
      ]
     },
     "execution_count": 53,
     "metadata": {},
     "output_type": "execute_result"
    }
   ],
   "source": [
    "# key:value\n",
    "wallet = {\n",
    "    \"address\":\"0xA1B2\",\n",
    "    \"balance\":4.5,\n",
    "    \"is_active\":True\n",
    "}\n",
    "\n",
    "wallet"
   ]
  },
  {
   "cell_type": "markdown",
   "id": "4dcdc8fa",
   "metadata": {},
   "source": [
    "### Common Methods in Dictionary"
   ]
  },
  {
   "cell_type": "code",
   "execution_count": 54,
   "id": "2c857932",
   "metadata": {},
   "outputs": [
    {
     "data": {
      "text/plain": [
       "4.5"
      ]
     },
     "execution_count": 54,
     "metadata": {},
     "output_type": "execute_result"
    }
   ],
   "source": [
    "# dict[key] --> Get value by key\n",
    "wallet[\"balance\"]"
   ]
  },
  {
   "cell_type": "code",
   "execution_count": 55,
   "id": "fe6809b4",
   "metadata": {},
   "outputs": [
    {
     "data": {
      "text/plain": [
       "True"
      ]
     },
     "execution_count": 55,
     "metadata": {},
     "output_type": "execute_result"
    }
   ],
   "source": [
    "# .get(key) --> Safe Access\n",
    "wallet.get(\"is_active\")"
   ]
  },
  {
   "cell_type": "code",
   "execution_count": 56,
   "id": "ea89a3d2",
   "metadata": {},
   "outputs": [
    {
     "data": {
      "text/plain": [
       "dict_keys(['address', 'balance', 'is_active'])"
      ]
     },
     "execution_count": 56,
     "metadata": {},
     "output_type": "execute_result"
    }
   ],
   "source": [
    "# .keys() --> All keys\n",
    "wallet.keys()"
   ]
  },
  {
   "cell_type": "code",
   "execution_count": 57,
   "id": "b144afd6",
   "metadata": {},
   "outputs": [
    {
     "data": {
      "text/plain": [
       "dict_values(['0xA1B2', 4.5, True])"
      ]
     },
     "execution_count": 57,
     "metadata": {},
     "output_type": "execute_result"
    }
   ],
   "source": [
    "# .values() --> All values\n",
    "wallet.values()"
   ]
  },
  {
   "cell_type": "code",
   "execution_count": 58,
   "id": "c27a0019",
   "metadata": {},
   "outputs": [
    {
     "data": {
      "text/plain": [
       "dict_items([('address', '0xA1B2'), ('balance', 4.5), ('is_active', True)])"
      ]
     },
     "execution_count": 58,
     "metadata": {},
     "output_type": "execute_result"
    }
   ],
   "source": [
    "# .items() --> Key-Value Pairs\n",
    "wallet.items()"
   ]
  },
  {
   "cell_type": "code",
   "execution_count": 59,
   "id": "6a2ac0e0",
   "metadata": {},
   "outputs": [
    {
     "data": {
      "text/plain": [
       "{'address': '0xA1B2', 'balance': 500, 'is_active': True}"
      ]
     },
     "execution_count": 59,
     "metadata": {},
     "output_type": "execute_result"
    }
   ],
   "source": [
    "# .update({}) --> updates the Dictionary\n",
    "wallet.update({\"balance\": 500})\n",
    "wallet"
   ]
  },
  {
   "cell_type": "code",
   "execution_count": 60,
   "id": "7d5006ba",
   "metadata": {},
   "outputs": [
    {
     "data": {
      "text/plain": [
       "{'address': '0xA1B2', 'balance': 500, 'is_active': False}"
      ]
     },
     "execution_count": 60,
     "metadata": {},
     "output_type": "execute_result"
    }
   ],
   "source": [
    "wallet.update({'is_active': False})\n",
    "wallet"
   ]
  },
  {
   "cell_type": "code",
   "execution_count": 61,
   "id": "c09f1e5d",
   "metadata": {},
   "outputs": [
    {
     "data": {
      "text/plain": [
       "{'address': '0xA1B2', 'balance': 500}"
      ]
     },
     "execution_count": 61,
     "metadata": {},
     "output_type": "execute_result"
    }
   ],
   "source": [
    "# .pop(key) --> Remove by Key\n",
    "wallet.pop(\"is_active\")\n",
    "wallet"
   ]
  },
  {
   "cell_type": "markdown",
   "id": "dbf7faa9",
   "metadata": {},
   "source": [
    "### 6. Nested Data Structures\n",
    "### These are combinations of basic data structures. They’re very common in real-world data (like blockchain data, API responses, and JSON).\n",
    "\n",
    "### A. List of Lists (2D List)\n",
    "### B. List of Dictionaries\n",
    "### C. Dictionary of Lists\n",
    "### D. Nested Dictionary (Dict of Dict)\n",
    "### E. Mix and Match Examples"
   ]
  },
  {
   "cell_type": "markdown",
   "id": "34447dd1",
   "metadata": {},
   "source": []
  }
 ],
 "metadata": {
  "kernelspec": {
   "display_name": "lesson1",
   "language": "python",
   "name": "python3"
  },
  "language_info": {
   "codemirror_mode": {
    "name": "ipython",
    "version": 3
   },
   "file_extension": ".py",
   "mimetype": "text/x-python",
   "name": "python",
   "nbconvert_exporter": "python",
   "pygments_lexer": "ipython3",
   "version": "3.12.10"
  }
 },
 "nbformat": 4,
 "nbformat_minor": 5
}
