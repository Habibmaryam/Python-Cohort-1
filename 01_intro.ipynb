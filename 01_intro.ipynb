{
 "cells": [
  {
   "cell_type": "markdown",
   "id": "19a7d2ef",
   "metadata": {},
   "source": [
    "# What is a Syntax"
   ]
  },
  {
   "cell_type": "markdown",
   "id": "cd468acb",
   "metadata": {},
   "source": []
  },
  {
   "cell_type": "markdown",
   "id": "ee64c78c",
   "metadata": {},
   "source": [
    "### Key Rules to Know:\n",
    "\n",
    "Comments (#) –  Comments are like sticky notes in your code. They start with # and are ignored by Python, so they’re just for you or others to understand what the code does.<br>\n",
    "Example: # This calculates your age<br>\n",
    "Indentation (Spaces/Tabs) – Python uses them to group code (like paragraphs in a book).<br>\n",
    "Code Blocks – Sections of code that belong together (e.g., inside loops or functions).<br>\n",
    "Keywords – Special words Python reserves (e.g., if, for, while). Don’t use these as variable names!"
   ]
  },
  {
   "cell_type": "markdown",
   "id": "8d522a10",
   "metadata": {},
   "source": [
    "#### F string\n",
    "It is formatted string literals.Its is a way to embedd formatted string inside a string literal in python."
   ]
  },
  {
   "cell_type": "code",
   "execution_count": 4,
   "id": "03c4f159",
   "metadata": {},
   "outputs": [
    {
     "name": "stdout",
     "output_type": "stream",
     "text": [
      "Hello {'Alice'}\n"
     ]
    }
   ],
   "source": [
    "name = 'Alice'\n",
    "print(f'Hello', {name})"
   ]
  },
  {
   "cell_type": "markdown",
   "id": "8d2fa64e",
   "metadata": {},
   "source": [
    "##### Input"
   ]
  },
  {
   "cell_type": "code",
   "execution_count": 3,
   "id": "4705df3c",
   "metadata": {},
   "outputs": [
    {
     "name": "stdout",
     "output_type": "stream",
     "text": [
      "My favorite crypto asset is Ethereum\n"
     ]
    }
   ],
   "source": [
    "crypto = input('Enter your favorite crypto Asset:')\n",
    "print('My favorite crypto asset is ' + crypto)"
   ]
  },
  {
   "cell_type": "code",
   "execution_count": 5,
   "id": "8e1b81d6",
   "metadata": {},
   "outputs": [
    {
     "name": "stdout",
     "output_type": "stream",
     "text": [
      "Hello Maryam\n"
     ]
    }
   ],
   "source": [
    "name = input('Enter your name:')\n",
    "print('Hello ' + name)"
   ]
  },
  {
   "cell_type": "code",
   "execution_count": 8,
   "id": "3bf78518",
   "metadata": {},
   "outputs": [
    {
     "name": "stdout",
     "output_type": "stream",
     "text": [
      "You are 40 years old\n"
     ]
    }
   ],
   "source": [
    "age = int(input('Enter your age:'))\n",
    "print(f'You are {age} years old')"
   ]
  },
  {
   "cell_type": "markdown",
   "id": "3375f371",
   "metadata": {},
   "source": [
    "### Naming Rules:\n",
    "Start with a letter or _ (not a number).<br>\n",
    "Can contain letters, numbers, or _ (no spaces or symbols).<br>\n",
    "Case-sensitive (Name ≠ name).<br>\n",
    "Avoid Python keywords (e.g., don’t name a variable print).<br>"
   ]
  },
  {
   "cell_type": "code",
   "execution_count": null,
   "id": "96e3d82c",
   "metadata": {},
   "outputs": [],
   "source": []
  },
  {
   "cell_type": "markdown",
   "id": "c094c91a",
   "metadata": {},
   "source": [
    "### Text Data Types\n",
    "#### - String"
   ]
  },
  {
   "cell_type": "code",
   "execution_count": null,
   "id": "84c9066d",
   "metadata": {},
   "outputs": [],
   "source": [
    "# String data type represent text"
   ]
  },
  {
   "cell_type": "markdown",
   "id": "c142198d",
   "metadata": {},
   "source": [
    "### Squence Data Type:\n",
    "\n"
   ]
  },
  {
   "cell_type": "markdown",
   "id": "173241f7",
   "metadata": {},
   "source": []
  },
  {
   "cell_type": "markdown",
   "id": "02dea9ba",
   "metadata": {},
   "source": [
    "## Methods and functions"
   ]
  },
  {
   "cell_type": "code",
   "execution_count": 6,
   "id": "6a57b517",
   "metadata": {},
   "outputs": [],
   "source": [
    "name_1 = 'blockchain'"
   ]
  },
  {
   "cell_type": "code",
   "execution_count": 7,
   "id": "5f33adb5",
   "metadata": {},
   "outputs": [
    {
     "data": {
      "text/plain": [
       "10"
      ]
     },
     "execution_count": 7,
     "metadata": {},
     "output_type": "execute_result"
    }
   ],
   "source": [
    "len(name_1)"
   ]
  },
  {
   "cell_type": "code",
   "execution_count": null,
   "id": "f5f03666",
   "metadata": {},
   "outputs": [
    {
     "name": "stdout",
     "output_type": "stream",
     "text": [
      "maryam\n"
     ]
    }
   ],
   "source": [
    "#covert string to lower case --> .lower()\n",
    "name = 'Maryam'\n",
    "print(name.lower())"
   ]
  },
  {
   "cell_type": "code",
   "execution_count": null,
   "id": "8abac259",
   "metadata": {},
   "outputs": [
    {
     "name": "stdout",
     "output_type": "stream",
     "text": [
      "MARYAM\n"
     ]
    }
   ],
   "source": [
    "# convert string to upper case --> .upper()\n",
    "print(name.upper())"
   ]
  },
  {
   "cell_type": "code",
   "execution_count": 11,
   "id": "d0e9420a",
   "metadata": {},
   "outputs": [
    {
     "data": {
      "text/plain": [
       "'adamawa'"
      ]
     },
     "execution_count": 11,
     "metadata": {},
     "output_type": "execute_result"
    }
   ],
   "source": [
    "# remove spaces\n",
    "place = 'adamawa '\n",
    "\n",
    "place.strip()"
   ]
  },
  {
   "cell_type": "code",
   "execution_count": 12,
   "id": "83d367c2",
   "metadata": {},
   "outputs": [
    {
     "data": {
      "text/plain": [
       "'Abuja '"
      ]
     },
     "execution_count": 12,
     "metadata": {},
     "output_type": "execute_result"
    }
   ],
   "source": [
    "# replacing a substring--> .replace(old,new)\n",
    "place.replace('adamawa', 'Abuja')"
   ]
  },
  {
   "cell_type": "code",
   "execution_count": 14,
   "id": "97a3f5cb",
   "metadata": {},
   "outputs": [
    {
     "data": {
      "text/plain": [
       "'adamawa '"
      ]
     },
     "execution_count": 14,
     "metadata": {},
     "output_type": "execute_result"
    }
   ],
   "source": [
    "place"
   ]
  },
  {
   "cell_type": "markdown",
   "id": "2a476736",
   "metadata": {},
   "source": [
    "### However, when you recall 'place', it still returns 'adamawa'.<br> Hence, we reassign the whole code to 'place'."
   ]
  },
  {
   "cell_type": "code",
   "execution_count": 15,
   "id": "7e1594c1",
   "metadata": {},
   "outputs": [],
   "source": [
    "place = place.replace('adamawa', 'Abuja')"
   ]
  },
  {
   "cell_type": "code",
   "execution_count": 16,
   "id": "6f786ec5",
   "metadata": {},
   "outputs": [
    {
     "data": {
      "text/plain": [
       "'Abuja '"
      ]
     },
     "execution_count": 16,
     "metadata": {},
     "output_type": "execute_result"
    }
   ],
   "source": [
    "place"
   ]
  },
  {
   "cell_type": "code",
   "execution_count": 21,
   "id": "19a76144",
   "metadata": {},
   "outputs": [
    {
     "data": {
      "text/plain": [
       "['crypto', 'blockchain', 'price']"
      ]
     },
     "execution_count": 21,
     "metadata": {},
     "output_type": "execute_result"
    }
   ],
   "source": [
    "# split into list --> .split()\n",
    "x = 'crypto,blockchain,price'\n",
    "x = x.split(\",\")\n",
    "x"
   ]
  },
  {
   "cell_type": "code",
   "execution_count": 23,
   "id": "2f532c0d",
   "metadata": {},
   "outputs": [
    {
     "data": {
      "text/plain": [
       "list"
      ]
     },
     "execution_count": 23,
     "metadata": {},
     "output_type": "execute_result"
    }
   ],
   "source": [
    "type(x)"
   ]
  },
  {
   "cell_type": "code",
   "execution_count": null,
   "id": "72451170",
   "metadata": {},
   "outputs": [],
   "source": []
  }
 ],
 "metadata": {
  "kernelspec": {
   "display_name": "lesson1",
   "language": "python",
   "name": "python3"
  },
  "language_info": {
   "codemirror_mode": {
    "name": "ipython",
    "version": 3
   },
   "file_extension": ".py",
   "mimetype": "text/x-python",
   "name": "python",
   "nbconvert_exporter": "python",
   "pygments_lexer": "ipython3",
   "version": "3.12.10"
  }
 },
 "nbformat": 4,
 "nbformat_minor": 5
}
